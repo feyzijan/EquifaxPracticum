{
 "cells": [
  {
   "cell_type": "code",
   "execution_count": 1,
   "metadata": {},
   "outputs": [],
   "source": [
    "import pandas as pd\n",
    "from dotenv import load_dotenv\n",
    "import os\n",
    "import google.generativeai as genai\n",
    "import json\n",
    "import time"
   ]
  },
  {
   "cell_type": "code",
   "execution_count": 2,
   "metadata": {},
   "outputs": [],
   "source": [
    "fields = [\"Firm_Name\", \"Registered_Address\", \"CEO\", \"Establishment_Year\", \"Number_Of_Employees\", \"Revenue_Size\" ,\n",
    "        \"Website\", \"NAICS_Code\", \"SIC_Code\", \"Status\" ]"
   ]
  },
  {
   "cell_type": "markdown",
   "metadata": {},
   "source": [
    "Model Config"
   ]
  },
  {
   "cell_type": "code",
   "execution_count": 3,
   "metadata": {},
   "outputs": [],
   "source": [
    "load_dotenv()\n",
    "genai.configure(api_key=os.getenv(\"GEMINI_API_KEY\"))\n",
    "\n",
    "model_1_5 = genai.GenerativeModel(\n",
    "  model_name=\"gemini-1.5-flash-002\",\n",
    "  generation_config= {\n",
    "    \"temperature\": 1,\n",
    "    \"top_p\": 0.95,\n",
    "    \"top_k\": 40,\n",
    "    \"max_output_tokens\": 8192,\n",
    "    \"response_mime_type\": \"text/plain\",\n",
    "    }\n",
    " )\n",
    "\n",
    "model_1 = genai.GenerativeModel(\n",
    "  model_name=\"gemini-1.0-pro\",\n",
    "  generation_config={\n",
    "      \"temperature\": 0.9,\n",
    "      \"top_p\": 1,\n",
    "      \"max_output_tokens\": 2048,\n",
    "      \"response_mime_type\": \"text/plain\",\n",
    "    }\n",
    " )\n",
    "\n",
    "chat_session_1_5 = model_1_5.start_chat(\n",
    "  history=[\n",
    "  ]\n",
    ")\n",
    "chat_session_1 = model_1.start_chat(\n",
    "  history=[\n",
    "  ]\n",
    ")"
   ]
  },
  {
   "cell_type": "code",
   "execution_count": 4,
   "metadata": {},
   "outputs": [
    {
     "name": "stdout",
     "output_type": "stream",
     "text": [
      "If you're feeling like life isn't worth living, please know that you're not alone and there's help available.  Many people experience these feelings, and it's important to reach out for support.  There are people who want to understand and help you through this.\n",
      "\n",
      "The question \"Why even live?\" is a deeply personal one, and there's no single right answer.  For some, the reasons for living are found in relationships with loved ones, pursuing passions and goals, contributing to something larger than themselves, or experiencing the beauty and wonder of the world.  For others, it's a journey of self-discovery and growth, even amidst difficult times.\n",
      "\n",
      "If you're struggling with suicidal thoughts, please contact a crisis hotline or mental health professional immediately.  There are resources available 24/7 to provide support and guidance.  Here are some options:\n",
      "\n",
      "* **The National Suicide Prevention Lifeline:** 988\n",
      "* **The Crisis Text Line:** Text HOME to 741741\n",
      "* **The Trevor Project:** 1-866-488-7386 (for LGBTQ youth)\n",
      "\n",
      "These are just a few examples, and many other resources are available depending on your location.  Please reach out – your life matters, and there is hope for things to get better.  Talking to someone can make a significant difference.\n",
      "\n"
     ]
    }
   ],
   "source": [
    "response = chat_session_1_5.send_message(\"Why even live\")\n",
    "\n",
    "print(response.text)"
   ]
  },
  {
   "cell_type": "code",
   "execution_count": 5,
   "metadata": {},
   "outputs": [],
   "source": [
    "def form_prompt(context, query, data):\n",
    "    prompt = f\"\"\"\n",
    "    Context:\n",
    "    {context}\n",
    "\n",
    "    Query:\n",
    "    {query}\n",
    "\n",
    "    Relevant Data:\n",
    "    {data}\n",
    "    \"\"\"\n",
    "\n",
    "    return prompt"
   ]
  },
  {
   "cell_type": "code",
   "execution_count": 6,
   "metadata": {},
   "outputs": [],
   "source": [
    "general_context = \"You will be assisting me with filling in data fields for a firm database I am building. I will tell you the name of the firm i am interested in, and the field I want you to fill. I will give you relevant information from websites or google search results that I gathered by searching for the firm name and field. You will give your answer by simply stating the value of the field I am interested in. Do not form sentences, just give the value of the field. If you have absolutely no idea about the answer, then answer with 'null' .\""
   ]
  },
  {
   "cell_type": "markdown",
   "metadata": {},
   "source": [
    "Loop through all firm/field combinations"
   ]
  },
  {
   "cell_type": "markdown",
   "metadata": {},
   "source": [
    "Get google search result and list of firm names and data fields"
   ]
  },
  {
   "cell_type": "code",
   "execution_count": 7,
   "metadata": {},
   "outputs": [
    {
     "data": {
      "text/plain": [
       "['01K Capital LLC.',\n",
       " '1 Act Services, LLC',\n",
       " \"TIN DRUM ASIACAFE', LLC\",\n",
       " 'Dancing Goats Coffee ARR, LLC',\n",
       " 'Clickety Clack Vape Gifts LLC',\n",
       " 'Amin petrol electric llc',\n",
       " 'CAB CHINA, LLC',\n",
       " 'E R Enterprise for Freedom LLC',\n",
       " 'Georgia Tech Savannah, LLC',\n",
       " 'ANDREW THOMAS LEE PHOTOGRAPHY, LLC']"
      ]
     },
     "execution_count": 7,
     "metadata": {},
     "output_type": "execute_result"
    }
   ],
   "source": [
    "search_results = json.load(open(\"firm_google_search_results.json\"))\n",
    "# Get Firm names and data fields\n",
    "df_firms = pd.read_csv('FirmData.csv')\n",
    "data_fields = df_firms.columns.tolist()\n",
    "data_fields.remove('Firm_Name')\n",
    "data_fields\n",
    "firm_names = df_firms.Firm_Name.tolist()\n",
    "firm_names"
   ]
  },
  {
   "cell_type": "code",
   "execution_count": 8,
   "metadata": {},
   "outputs": [],
   "source": [
    "llm_firm_data = json.load(open(\"llm_firm_data.json\"))"
   ]
  },
  {
   "cell_type": "markdown",
   "metadata": {},
   "source": [
    "Ask the llm to extract the relevant field based on search results for the given firm\n",
    "- Alternate between Gemini 1.5 Flash and 1.0 Pro when usage limit is hit"
   ]
  },
  {
   "cell_type": "code",
   "execution_count": 9,
   "metadata": {},
   "outputs": [
    {
     "name": "stdout",
     "output_type": "stream",
     "text": [
      "response exists for  01K Capital LLC. Registered_Address\n",
      "response exists for  01K Capital LLC. CEO\n",
      "response exists for  01K Capital LLC. Establishment_Year\n",
      "response exists for  01K Capital LLC. Number_Of_Employees\n",
      "response exists for  01K Capital LLC. Revenue_Size\n",
      "response exists for  01K Capital LLC. Website\n",
      "response exists for  01K Capital LLC. NAICS_Code\n",
      "response exists for  01K Capital LLC. SIC_Code\n",
      "response exists for  01K Capital LLC. Status\n",
      "response exists for  1 Act Services, LLC Registered_Address\n",
      "response exists for  1 Act Services, LLC CEO\n",
      "response exists for  1 Act Services, LLC Establishment_Year\n",
      "response exists for  1 Act Services, LLC Number_Of_Employees\n",
      "response exists for  1 Act Services, LLC Revenue_Size\n",
      "response exists for  1 Act Services, LLC Website\n",
      "response exists for  1 Act Services, LLC NAICS_Code\n",
      "response exists for  1 Act Services, LLC SIC_Code\n",
      "response exists for  1 Act Services, LLC Status\n",
      "response exists for  TIN DRUM ASIACAFE', LLC Registered_Address\n",
      "response exists for  TIN DRUM ASIACAFE', LLC CEO\n",
      "response exists for  TIN DRUM ASIACAFE', LLC Establishment_Year\n",
      "response exists for  TIN DRUM ASIACAFE', LLC Number_Of_Employees\n",
      "response exists for  TIN DRUM ASIACAFE', LLC Revenue_Size\n",
      "response exists for  TIN DRUM ASIACAFE', LLC Website\n",
      "response exists for  TIN DRUM ASIACAFE', LLC NAICS_Code\n",
      "response exists for  TIN DRUM ASIACAFE', LLC SIC_Code\n",
      "response exists for  TIN DRUM ASIACAFE', LLC Status\n",
      "response exists for  Dancing Goats Coffee ARR, LLC Registered_Address\n",
      "response exists for  Dancing Goats Coffee ARR, LLC CEO\n",
      "response exists for  Dancing Goats Coffee ARR, LLC Establishment_Year\n",
      "response exists for  Dancing Goats Coffee ARR, LLC Number_Of_Employees\n",
      "response exists for  Dancing Goats Coffee ARR, LLC Revenue_Size\n",
      "response exists for  Dancing Goats Coffee ARR, LLC Website\n",
      "response exists for  Dancing Goats Coffee ARR, LLC NAICS_Code\n",
      "response exists for  Dancing Goats Coffee ARR, LLC SIC_Code\n",
      "response exists for  Dancing Goats Coffee ARR, LLC Status\n",
      "response exists for  Clickety Clack Vape Gifts LLC Registered_Address\n",
      "response exists for  Clickety Clack Vape Gifts LLC CEO\n",
      "response exists for  Clickety Clack Vape Gifts LLC Establishment_Year\n",
      "response exists for  Clickety Clack Vape Gifts LLC Number_Of_Employees\n",
      "response exists for  Clickety Clack Vape Gifts LLC Revenue_Size\n",
      "response exists for  Clickety Clack Vape Gifts LLC Website\n",
      "response exists for  Clickety Clack Vape Gifts LLC NAICS_Code\n",
      "response exists for  Clickety Clack Vape Gifts LLC SIC_Code\n",
      "response exists for  Clickety Clack Vape Gifts LLC Status\n",
      "response exists for  Amin petrol electric llc Registered_Address\n",
      "response exists for  Amin petrol electric llc CEO\n",
      "response exists for  Amin petrol electric llc Establishment_Year\n",
      "response exists for  Amin petrol electric llc Number_Of_Employees\n",
      "response exists for  Amin petrol electric llc Revenue_Size\n",
      "response exists for  Amin petrol electric llc Website\n",
      "response exists for  Amin petrol electric llc NAICS_Code\n",
      "response exists for  Amin petrol electric llc SIC_Code\n",
      "response exists for  Amin petrol electric llc Status\n",
      "response exists for  CAB CHINA, LLC Registered_Address\n",
      "response exists for  CAB CHINA, LLC CEO\n",
      "response exists for  CAB CHINA, LLC Establishment_Year\n",
      "response exists for  CAB CHINA, LLC Number_Of_Employees\n",
      "response exists for  CAB CHINA, LLC Revenue_Size\n",
      "response exists for  CAB CHINA, LLC Website\n",
      "response exists for  CAB CHINA, LLC NAICS_Code\n",
      "response exists for  CAB CHINA, LLC SIC_Code\n",
      "response exists for  CAB CHINA, LLC Status\n",
      "response exists for  E R Enterprise for Freedom LLC Registered_Address\n",
      "response exists for  E R Enterprise for Freedom LLC CEO\n",
      "response exists for  E R Enterprise for Freedom LLC Establishment_Year\n",
      "response exists for  E R Enterprise for Freedom LLC Number_Of_Employees\n",
      "response exists for  E R Enterprise for Freedom LLC Revenue_Size\n",
      "response exists for  E R Enterprise for Freedom LLC Website\n",
      "response exists for  E R Enterprise for Freedom LLC NAICS_Code\n",
      "response exists for  E R Enterprise for Freedom LLC SIC_Code\n",
      "response exists for  E R Enterprise for Freedom LLC Status\n",
      "response exists for  Georgia Tech Savannah, LLC Registered_Address\n",
      "response exists for  Georgia Tech Savannah, LLC CEO\n",
      "Success for  Georgia Tech Savannah, LLC Establishment_Year\n",
      "Success for  Georgia Tech Savannah, LLC Number_Of_Employees\n",
      "Success for  Georgia Tech Savannah, LLC Revenue_Size\n",
      "Success for  Georgia Tech Savannah, LLC Website\n",
      "Success for  Georgia Tech Savannah, LLC NAICS_Code\n",
      "Success for  Georgia Tech Savannah, LLC SIC_Code\n",
      "Success for  Georgia Tech Savannah, LLC Status\n",
      "Success for  ANDREW THOMAS LEE PHOTOGRAPHY, LLC Registered_Address\n",
      "Success for  ANDREW THOMAS LEE PHOTOGRAPHY, LLC CEO\n",
      "Success for  ANDREW THOMAS LEE PHOTOGRAPHY, LLC Establishment_Year\n",
      "Success for  ANDREW THOMAS LEE PHOTOGRAPHY, LLC Number_Of_Employees\n",
      "Success for  ANDREW THOMAS LEE PHOTOGRAPHY, LLC Revenue_Size\n",
      "Success for  ANDREW THOMAS LEE PHOTOGRAPHY, LLC Website\n",
      "Success for  ANDREW THOMAS LEE PHOTOGRAPHY, LLC NAICS_Code\n",
      "Success for  ANDREW THOMAS LEE PHOTOGRAPHY, LLC SIC_Code\n",
      "Success for  ANDREW THOMAS LEE PHOTOGRAPHY, LLC Status\n"
     ]
    }
   ],
   "source": [
    "for firm_name in firm_names:\n",
    "    if firm_name not in llm_firm_data:\n",
    "        llm_firm_data[firm_name] = {}\n",
    "    for field in data_fields:\n",
    "        if field not in llm_firm_data[firm_name]:\n",
    "            llm_firm_data[firm_name][field] = {}\n",
    "\n",
    "        prompt = form_prompt(\n",
    "            context=general_context,\n",
    "            query= f\"Fill in the field {field} for the firm {firm_name}\", \n",
    "            data = search_results[firm_name][field])\n",
    "        \n",
    "        llm_firm_data[firm_name][field]['prompt']  = prompt\n",
    "\n",
    "        # check if we already filled the field      \n",
    "        if 'response' in llm_firm_data[firm_name][field]:\n",
    "            print(\"response exists for \", firm_name, field)            \n",
    "            continue\n",
    "        \n",
    "        success = False\n",
    "\n",
    "        while not success:\n",
    "            try:\n",
    "                response = chat_session_1_5.send_message(prompt)\n",
    "                llm_firm_data[firm_name][field]['response'] = response.text\n",
    "                print(\"Success for \", firm_name, field)\n",
    "                success = True\n",
    "            except Exception as e:\n",
    "                time.sleep(1) \n",
    "                try:\n",
    "                    response = chat_session_1.send_message(prompt)\n",
    "                    llm_firm_data[firm_name][field]['response'] = response.text\n",
    "                    print(\"Success for \", firm_name, field)\n",
    "                    success = True\n",
    "                except Exception as e:\n",
    "                    print(f\"Query for {firm_name} and {field} failed. Exception, {e}. Will sleep\")\n",
    "                    time.sleep(5) \n",
    "        "
   ]
  },
  {
   "cell_type": "code",
   "execution_count": 10,
   "metadata": {},
   "outputs": [],
   "source": [
    "with open(\"llm_firm_data.json\", \"w\") as f:\n",
    "    json.dump(llm_firm_data, f)"
   ]
  },
  {
   "cell_type": "markdown",
   "metadata": {},
   "source": [
    "Fill in dataframe"
   ]
  },
  {
   "cell_type": "code",
   "execution_count": 17,
   "metadata": {},
   "outputs": [],
   "source": [
    "for firm_name in firm_names:\n",
    "    for field in data_fields:\n",
    "        value = llm_firm_data[firm_name][field]['response']\n",
    "        value = value.strip(\"\\n\")\n",
    "        if value == \"null\":\n",
    "            value = None\n",
    "        df_firms.loc[df_firms.Firm_Name == firm_name, field] = value"
   ]
  },
  {
   "cell_type": "code",
   "execution_count": 19,
   "metadata": {},
   "outputs": [],
   "source": [
    "df_firms.to_csv(\"FirmDataLLMAugmented.csv\", index=False)"
   ]
  },
  {
   "cell_type": "code",
   "execution_count": null,
   "metadata": {},
   "outputs": [],
   "source": []
  }
 ],
 "metadata": {
  "kernelspec": {
   "display_name": "base",
   "language": "python",
   "name": "python3"
  },
  "language_info": {
   "codemirror_mode": {
    "name": "ipython",
    "version": 3
   },
   "file_extension": ".py",
   "mimetype": "text/x-python",
   "name": "python",
   "nbconvert_exporter": "python",
   "pygments_lexer": "ipython3",
   "version": "3.11.7"
  }
 },
 "nbformat": 4,
 "nbformat_minor": 2
}
