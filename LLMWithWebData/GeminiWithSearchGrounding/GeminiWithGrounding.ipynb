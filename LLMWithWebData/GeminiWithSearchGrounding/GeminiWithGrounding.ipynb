{
 "cells": [
  {
   "cell_type": "code",
   "execution_count": 32,
   "metadata": {},
   "outputs": [
    {
     "data": {
      "text/plain": [
       "True"
      ]
     },
     "execution_count": 32,
     "metadata": {},
     "output_type": "execute_result"
    }
   ],
   "source": [
    "import pandas as pd\n",
    "from dotenv import load_dotenv\n",
    "import os\n",
    "import google.generativeai as genai\n",
    "import json\n",
    "import time\n",
    "import sqlite3\n",
    "load_dotenv()"
   ]
  },
  {
   "cell_type": "markdown",
   "metadata": {},
   "source": [
    "Define fields except firm name"
   ]
  },
  {
   "cell_type": "code",
   "execution_count": 33,
   "metadata": {},
   "outputs": [],
   "source": [
    "fields = [\"Registered_Address\", \"CEO\", \"Establishment_Year\", \"Number_Of_Employees\", \"Revenue_Size\" ,\n",
    "        \"Website\", \"NAICS_Code\", \"SIC_Code\", \"Status\" ]"
   ]
  },
  {
   "cell_type": "markdown",
   "metadata": {},
   "source": [
    "I'm using this to test how getting predictions just using gemini (without the databases) works"
   ]
  },
  {
   "cell_type": "code",
   "execution_count": 34,
   "metadata": {},
   "outputs": [],
   "source": [
    "genai.configure(api_key=os.environ[\"GEMINI_API_KEY\"])\n",
    "\n",
    "# Create the model\n",
    "generation_config = {\n",
    "  \"temperature\": 1,\n",
    "  \"top_p\": 0.95,\n",
    "  \"top_k\": 40,\n",
    "  \"max_output_tokens\": 8192,\n",
    "  \"response_mime_type\": \"text/plain\",\n",
    "}\n",
    "\n",
    "model = genai.GenerativeModel(\n",
    "  model_name=\"models/gemini-1.5-pro-002\",\n",
    "  # generation_config=generation_config,\n",
    ")\n",
    "\n",
    "chat_session = model.start_chat(\n",
    "  history=[\n",
    "  ]\n",
    ")"
   ]
  },
  {
   "cell_type": "markdown",
   "metadata": {},
   "source": [
    "Test responses"
   ]
  },
  {
   "cell_type": "code",
   "execution_count": 35,
   "metadata": {},
   "outputs": [],
   "source": [
    "response = model.generate_content(contents=\"What is the land area of Spain?\",\n",
    "                                  tools='google_search_retrieval')"
   ]
  },
  {
   "cell_type": "code",
   "execution_count": 36,
   "metadata": {},
   "outputs": [
    {
     "name": "stdout",
     "output_type": "stream",
     "text": [
      "As of November 9th, 2024, the death toll from the recent floods in Valencia, Spain, has reached at least 220 people.  Some reports put the number as high as 223 as of November 8th, with around 80 people still missing.  The floods, triggered by torrential rains on October 29th, are considered one of Europe's deadliest natural disasters in decades.\n",
      "\n"
     ]
    }
   ],
   "source": [
    "response = chat_session.send_message(\"How many people died in the recent floods in Valencia?\", tools='google_search_retrieval')\n",
    "# response = model.generate_content(\"contents=\"What is the land area of Spain?\",tools='google_search_retrieval')\n",
    "print(response.text)"
   ]
  },
  {
   "cell_type": "markdown",
   "metadata": {},
   "source": [
    "Function to form prompt to give gemini"
   ]
  },
  {
   "cell_type": "markdown",
   "metadata": {},
   "source": [
    "Make sure gemini returns one answer or Null to each query instead of a paragraph"
   ]
  },
  {
   "cell_type": "code",
   "execution_count": 37,
   "metadata": {},
   "outputs": [],
   "source": [
    "answer_format_v1 = \"\"\"\n",
    "If you have absolutely no idea on how to answer my query please write 'No information found'. \n",
    "Do not leave the answer blank or give me a long explanation on why you couldn't find the answer or an explanation of your answer.\n",
    "If you find multiple possible answers return your best answer.\n",
    "To reiterate i just want you to give a short answer in the format described above. Do not give me a long textual response.\"\"\""
   ]
  },
  {
   "cell_type": "code",
   "execution_count": 38,
   "metadata": {},
   "outputs": [],
   "source": [
    "def form_prompt(query):\n",
    "    prompt = f\"\"\"\n",
    "    Context:\n",
    "    {query}.\n",
    "    {answer_format_v1}\n",
    "    \"\"\"\n",
    "\n",
    "    return prompt"
   ]
  },
  {
   "cell_type": "markdown",
   "metadata": {},
   "source": [
    "Define the queries we will give Gemini for each field. We need to specify the type of output we expect etc. May need some prompt engineering here"
   ]
  },
  {
   "cell_type": "code",
   "execution_count": null,
   "metadata": {},
   "outputs": [],
   "source": [
    "field_to_query_v1 = {\n",
    "        \"Registered_Address\": \"Tell me the Registered Adress for the firm named {firm_name}. Your answer should consist of the street address, city, state, country, and postal code.\",\n",
    "        \"CEO\": \"Tell me the name and surname of the CEO for the firm named {firm_name}. Your answer should be in the format 'Name Surname'\",\n",
    "        \"Establishment_Year\": \"Tell me the establishment year of {firm_name}. Your answer should be 4 digits in the format YYYY\",\n",
    "        \"Number_Of_Employees\": \"Tell me the estimated number of employees for the firm named {firm_name}. Your answer should be an approximate range, like 1-10, 10-100, 100-1000, 1000-10000, 10000+ etc. You can specify other ranges like 200-250 if you wish.\",\n",
    "        \"Revenue_Size\": \"Tell me the estimated annual revenue in dollars for the firm named {firm_name}. Your answer should be an approximate range, 10000-100000, 1000000-10000000, or 1000000000+ etc. You can specify other ranges like 200-250 if you wish.\",\n",
    "        \"Website\": \"Tell me the url of the official website of for the firm named {firm_name}. If you can't find a website for the firm, please write 'No website found'\",\n",
    "        \"NAICS_Code\": \"Tell me the numeric NAICS code for the firm named {firm_name}.\",\n",
    "        \"SIC_Code\":  \"Tell me the numeric SIC code for the firm named {firm_name}.\",\n",
    "        \"Status\": \"Tell me the whether the firm named {firm_name} is Active or Dissolved. Answer with one word.\",\n",
    "}\n",
    "\n",
    "field_to_query = field_to_query_v1"
   ]
  },
  {
   "cell_type": "markdown",
   "metadata": {},
   "source": [
    "TODO - Check if gemini remembers recent context like below. May be helpful to give a general context first, then ask each query, making sure the context resets with each firm"
   ]
  },
  {
   "cell_type": "markdown",
   "metadata": {},
   "source": [
    "### Open firm databases"
   ]
  },
  {
   "cell_type": "code",
   "execution_count": 40,
   "metadata": {},
   "outputs": [],
   "source": [
    "# Table to store the results\n",
    "conn = sqlite3.connect(\"firm_database_gemini_with_grounding.db\")\n",
    "cursor = conn.cursor()\n"
   ]
  },
  {
   "cell_type": "code",
   "execution_count": 46,
   "metadata": {},
   "outputs": [
    {
     "name": "stdout",
     "output_type": "stream",
     "text": [
      "[('sqlite_sequence',)]\n"
     ]
    }
   ],
   "source": [
    "# Check existing tables and drop if you want\n",
    "\n",
    "# Check existing tables\n",
    "existing_tables = cursor.execute(\"SELECT name FROM sqlite_master WHERE type='table';\").fetchall()\n",
    "print(existing_tables)\n",
    "\n",
    "table_to_drop = \"aaaa\"\n",
    "cursor.execute(f\"DROP TABLE IF EXISTS {table_to_drop} \")\n",
    "conn.commit()"
   ]
  },
  {
   "cell_type": "code",
   "execution_count": null,
   "metadata": {},
   "outputs": [],
   "source": []
  },
  {
   "cell_type": "code",
   "execution_count": 47,
   "metadata": {},
   "outputs": [
    {
     "data": {
      "text/plain": [
       "<sqlite3.Cursor at 0x15655c040>"
      ]
     },
     "execution_count": 47,
     "metadata": {},
     "output_type": "execute_result"
    }
   ],
   "source": [
    "\n",
    "# Create table\n",
    "# You can create different tables for different prompt types, gemini model etc, if you rename the table\n",
    "table_name = \"firm_properties_gemini_with_grounding_v2\"\n",
    "cursor.execute(f'''\n",
    "CREATE TABLE IF NOT EXISTS {table_name} (\n",
    "               id INTEGER PRIMARY KEY,\n",
    "               Firm_Name TEXT NOT NULL,\n",
    "               Registered_Address TEXT,\n",
    "               CEO TEXT,\n",
    "               Establishment_Year INT,\n",
    "               Number_Of_Employees TEXT,\n",
    "               Revenue_Size TEXT,\n",
    "               Website TEXT,\n",
    "               NAICS_Code INT,\n",
    "               SIC_Code INT,\n",
    "               Status TEXT\n",
    "               )\n",
    "               ''')"
   ]
  },
  {
   "cell_type": "markdown",
   "metadata": {},
   "source": [
    "Main Loop"
   ]
  },
  {
   "cell_type": "markdown",
   "metadata": {},
   "source": [
    "Get the list of firms from the web search database to be consistent"
   ]
  },
  {
   "cell_type": "code",
   "execution_count": 51,
   "metadata": {},
   "outputs": [],
   "source": [
    "conn_web_results = sqlite3.connect(\"../firms_web_search_results.db\")\n",
    "cursor_websearch = conn_web_results.cursor()\n",
    "cursor_websearch.execute(''' SELECT id, Firm_Name FROM firms_web_search_results ''')\n",
    "firm_web_search_results = cursor_websearch.fetchall()"
   ]
  },
  {
   "cell_type": "code",
   "execution_count": 52,
   "metadata": {},
   "outputs": [
    {
     "data": {
      "text/plain": [
       "[(1, '\"TRACTION POWER SYSTEMS, INC.\"'),\n",
       " (2, '\"A DAY TO REMEMBER\", LLC'),\n",
       " (3, '\" MALCO INC. -A NEVADA CORP.'),\n",
       " (4, \".BISHOP'S GATE RESIDENTIAL MORTGAGE TRUST\"),\n",
       " (5, '\"J.CRESCI FARMS, L.L.C.\"'),\n",
       " (6, '1 MAN ARMY GOURMET FOODS LLC'),\n",
       " (7, '10-Code, LLC'),\n",
       " (8, \"'Dat Hit Da Spot' LLC\"),\n",
       " (9, '\" LESLIE A. FEAST CONSTRUCTION COMPANY, INC.\"'),\n",
       " (10, '\"R\" ROCKY RANCH, INC.')]"
      ]
     },
     "execution_count": 52,
     "metadata": {},
     "output_type": "execute_result"
    }
   ],
   "source": [
    "# select subset for testing\n",
    "firm_web_search_results = firm_web_search_results[:10]\n",
    "firm_web_search_results"
   ]
  },
  {
   "cell_type": "markdown",
   "metadata": {},
   "source": [
    "Fill database using a single query for each field"
   ]
  },
  {
   "cell_type": "code",
   "execution_count": 53,
   "metadata": {},
   "outputs": [
    {
     "name": "stdout",
     "output_type": "stream",
     "text": [
      "Inserting new firm:,  \"TRACTION POWER SYSTEMS, INC.\"\n",
      "Gemini response for \"TRACTION POWER SYSTEMS, INC.\" - Registered_Address:  No information found\n",
      "\n",
      "Gemini response for \"TRACTION POWER SYSTEMS, INC.\" - CEO:  No information found\n",
      "\n",
      "Gemini response for \"TRACTION POWER SYSTEMS, INC.\" - Establishment_Year:  No information found\n",
      "\n",
      "Gemini response for \"TRACTION POWER SYSTEMS, INC.\" - Number_Of_Employees:  No information found\n",
      "\n",
      "Gemini response for \"TRACTION POWER SYSTEMS, INC.\" - Revenue_Size:  No information found\n",
      "\n",
      "Gemini response for \"TRACTION POWER SYSTEMS, INC.\" - Website:  No information found\n",
      "\n",
      "Gemini response for \"TRACTION POWER SYSTEMS, INC.\" - NAICS_Code:  No information found\n",
      "\n",
      "Gemini response for \"TRACTION POWER SYSTEMS, INC.\" - SIC_Code:  No information found\n",
      "\n",
      "Gemini response for \"TRACTION POWER SYSTEMS, INC.\" - Status:  Active\n",
      "\n",
      "Inserting new firm:,  \"A DAY TO REMEMBER\", LLC\n",
      "Gemini response for \"A DAY TO REMEMBER\", LLC - Registered_Address:  2003 West 14th Street, Houston, Texas, USA, 77008\n",
      "\n",
      "Gemini response for \"A DAY TO REMEMBER\", LLC - CEO:  No information found\n",
      "\n",
      "\n",
      "\n",
      "Gemini response for \"A DAY TO REMEMBER\", LLC - Establishment_Year:  2003\n",
      "\n",
      "Gemini response for \"A DAY TO REMEMBER\", LLC - Number_Of_Employees:  1-10\n",
      "\n",
      "\n",
      "\n",
      "Gemini response for \"A DAY TO REMEMBER\", LLC - Revenue_Size:  $1000000-10000000\n",
      "\n",
      "\n",
      "\n",
      "Gemini response for \"A DAY TO REMEMBER\", LLC - Website:  adtr.com\n",
      "\n",
      "Gemini response for \"A DAY TO REMEMBER\", LLC - NAICS_Code:  711130\n",
      "\n",
      "\n",
      "\n",
      "Gemini response for \"A DAY TO REMEMBER\", LLC - SIC_Code:  711510\n",
      "\n",
      "\n",
      "\n",
      "Gemini response for \"A DAY TO REMEMBER\", LLC - Status:  Active\n",
      "\n",
      "Inserting new firm:,  \" MALCO INC. -A NEVADA CORP.\n",
      "Gemini response for \" MALCO INC. -A NEVADA CORP. - Registered_Address:  No information found\n",
      "\n",
      "\n",
      "\n",
      "Gemini response for \" MALCO INC. -A NEVADA CORP. - CEO:  No information found\n",
      "\n",
      "\n",
      "\n",
      "\n",
      "\n",
      "Gemini response for \" MALCO INC. -A NEVADA CORP. - Establishment_Year:  No information found\n",
      "\n",
      "\n",
      "\n",
      "Gemini response for \" MALCO INC. -A NEVADA CORP. - Number_Of_Employees:  10-100\n",
      "\n",
      "\n",
      "\n",
      "Gemini response for \" MALCO INC. -A NEVADA CORP. - Revenue_Size:  $1,000,000-10,000,000\n",
      "\n",
      "\n",
      "\n",
      "Gemini response for \" MALCO INC. -A NEVADA CORP. - Website:  budgetlasvegas.com\n",
      "\n",
      "Gemini response for \" MALCO INC. -A NEVADA CORP. - NAICS_Code:  No information found\n",
      "\n",
      "\n",
      "\n",
      "Gemini response for \" MALCO INC. -A NEVADA CORP. - SIC_Code:  751410\n",
      "\n",
      "Gemini response for \" MALCO INC. -A NEVADA CORP. - Status:  Active\n",
      "\n",
      "Inserting new firm:,  .BISHOP'S GATE RESIDENTIAL MORTGAGE TRUST\n",
      "Gemini response for .BISHOP'S GATE RESIDENTIAL MORTGAGE TRUST - Registered_Address:  No information found\n",
      "\n",
      "\n",
      "\n",
      "Gemini response for .BISHOP'S GATE RESIDENTIAL MORTGAGE TRUST - CEO:  No information found\n",
      "\n",
      "\n",
      "\n",
      "Gemini response for .BISHOP'S GATE RESIDENTIAL MORTGAGE TRUST - Establishment_Year:  No information found\n",
      "\n",
      "\n",
      "\n",
      "Gemini response for .BISHOP'S GATE RESIDENTIAL MORTGAGE TRUST - Number_Of_Employees:  No information found\n",
      "\n",
      "\n",
      "\n",
      "Gemini response for .BISHOP'S GATE RESIDENTIAL MORTGAGE TRUST - Revenue_Size:  No information found\n",
      "\n",
      "\n",
      "\n",
      "Gemini response for .BISHOP'S GATE RESIDENTIAL MORTGAGE TRUST - Website:  No website found\n",
      "\n",
      "\n",
      "\n",
      "Gemini response for .BISHOP'S GATE RESIDENTIAL MORTGAGE TRUST - NAICS_Code:  No information found\n",
      "\n",
      "\n",
      "\n",
      "Gemini response for .BISHOP'S GATE RESIDENTIAL MORTGAGE TRUST - SIC_Code:  No information found\n",
      "\n",
      "Gemini response for .BISHOP'S GATE RESIDENTIAL MORTGAGE TRUST - Status:  Dissolved\n",
      "\n",
      "Inserting new firm:,  \"J.CRESCI FARMS, L.L.C.\"\n",
      "Gemini response for \"J.CRESCI FARMS, L.L.C.\" - Registered_Address:  No information found\n",
      "\n",
      "\n",
      "\n",
      "Gemini response for \"J.CRESCI FARMS, L.L.C.\" - CEO:  No information found\n",
      "\n",
      "\n",
      "\n",
      "Gemini response for \"J.CRESCI FARMS, L.L.C.\" - Establishment_Year:  2013\n",
      "\n",
      "\n",
      "\n",
      "Gemini response for \"J.CRESCI FARMS, L.L.C.\" - Number_Of_Employees:  No information found\n",
      "\n",
      "\n",
      "\n",
      "\n",
      "\n",
      "Gemini response for \"J.CRESCI FARMS, L.L.C.\" - Revenue_Size:  $10000-100000\n",
      "\n",
      "\n",
      "\n",
      "Gemini response for \"J.CRESCI FARMS, L.L.C.\" - Website:  No website found\n",
      "\n",
      "\n",
      "\n",
      "Gemini response for \"J.CRESCI FARMS, L.L.C.\" - NAICS_Code:  111191\n",
      "\n",
      "\n",
      "\n",
      "Gemini response for \"J.CRESCI FARMS, L.L.C.\" - SIC_Code:  0721\n",
      "Gemini response for \"J.CRESCI FARMS, L.L.C.\" - Status:  Active\n",
      "\n",
      "Inserting new firm:,  1 MAN ARMY GOURMET FOODS LLC\n",
      "Gemini response for 1 MAN ARMY GOURMET FOODS LLC - Registered_Address:  1201 N Orange Street, Wilmington, Delaware, USA, 19801\n",
      "\n",
      "Gemini response for 1 MAN ARMY GOURMET FOODS LLC - CEO:  No information found\n",
      "\n",
      "\n",
      "\n",
      "Gemini response for 1 MAN ARMY GOURMET FOODS LLC - Establishment_Year:  2017\n",
      "\n",
      "\n",
      "\n",
      "Gemini response for 1 MAN ARMY GOURMET FOODS LLC - Number_Of_Employees:  1-10\n",
      "\n",
      "\n",
      "\n",
      "Gemini response for 1 MAN ARMY GOURMET FOODS LLC - Revenue_Size:  $100000-1000000\n",
      "\n",
      "\n",
      "\n",
      "Gemini response for 1 MAN ARMY GOURMET FOODS LLC - Website:  No website found\n",
      "\n",
      "\n",
      "\n",
      "Gemini response for 1 MAN ARMY GOURMET FOODS LLC - NAICS_Code:  311999\n",
      "\n",
      "\n",
      "\n",
      "Gemini response for 1 MAN ARMY GOURMET FOODS LLC - SIC_Code:  2012\n",
      "\n",
      "\n",
      "\n",
      "\n",
      "\n",
      "Gemini response for 1 MAN ARMY GOURMET FOODS LLC - Status:  Active\n",
      "\n",
      "Inserting new firm:,  10-Code, LLC\n",
      "Gemini response for 10-Code, LLC - Registered_Address:  No information found\n",
      "\n",
      "\n",
      "\n",
      "Gemini response for 10-Code, LLC - CEO:  No information found\n",
      "\n",
      "\n",
      "\n",
      "Gemini response for 10-Code, LLC - Establishment_Year:  2014\n",
      "\n",
      "\n",
      "\n",
      "Gemini response for 10-Code, LLC - Number_Of_Employees:  11-50\n",
      "\n",
      "\n",
      "\n",
      "Gemini response for 10-Code, LLC - Revenue_Size:  $1000000-10000000\n",
      "\n",
      "\n",
      "\n",
      "\n",
      "\n",
      "Gemini response for 10-Code, LLC - Website:  10codellc.com\n",
      "\n",
      "Gemini response for 10-Code, LLC - NAICS_Code:  561420\n",
      "\n",
      "\n",
      "\n",
      "Gemini response for 10-Code, LLC - SIC_Code:  7389\n",
      "\n",
      "\n",
      "Gemini response for 10-Code, LLC - Status:  Active\n",
      "\n",
      "\n",
      "\n",
      "Inserting new firm:,  'Dat Hit Da Spot' LLC\n",
      "Gemini response for 'Dat Hit Da Spot' LLC - Registered_Address:  6277 Marbut Farms Trail, Lithonia, Georgia, USA, 30058\n",
      "\n",
      "Gemini response for 'Dat Hit Da Spot' LLC - CEO:  No information found\n",
      "\n",
      "\n",
      "\n",
      "Gemini response for 'Dat Hit Da Spot' LLC - Establishment_Year:  2017\n",
      "\n",
      "\n",
      "\n",
      "Gemini response for 'Dat Hit Da Spot' LLC - Number_Of_Employees:  1-10\n",
      "\n",
      "\n",
      "\n",
      "Gemini response for 'Dat Hit Da Spot' LLC - Revenue_Size:  $100000-1000000\n",
      "\n",
      "\n",
      "\n",
      "\n",
      "\n",
      "Gemini response for 'Dat Hit Da Spot' LLC - Website:  No website found\n",
      "\n",
      "\n",
      "\n",
      "Gemini response for 'Dat Hit Da Spot' LLC - NAICS_Code:  722330\n",
      "\n",
      "\n",
      "Gemini response for 'Dat Hit Da Spot' LLC - SIC_Code:  561110\n",
      "\n",
      "Gemini response for 'Dat Hit Da Spot' LLC - Status:  Active\n",
      "\n",
      "Inserting new firm:,  \" LESLIE A. FEAST CONSTRUCTION COMPANY, INC.\"\n",
      "Gemini response for \" LESLIE A. FEAST CONSTRUCTION COMPANY, INC.\" - Registered_Address:  No information found\n",
      "\n",
      "\n",
      "\n",
      "Gemini response for \" LESLIE A. FEAST CONSTRUCTION COMPANY, INC.\" - CEO:  No information found\n",
      "\n",
      "\n",
      "\n",
      "\n",
      "\n",
      "Gemini response for \" LESLIE A. FEAST CONSTRUCTION COMPANY, INC.\" - Establishment_Year:  No information found\n",
      "\n",
      "\n",
      "\n",
      "Gemini response for \" LESLIE A. FEAST CONSTRUCTION COMPANY, INC.\" - Number_Of_Employees:  No information found\n",
      "\n",
      "\n",
      "\n",
      "Gemini response for \" LESLIE A. FEAST CONSTRUCTION COMPANY, INC.\" - Revenue_Size:  No information found\n",
      "\n",
      "\n",
      "\n",
      "Gemini response for \" LESLIE A. FEAST CONSTRUCTION COMPANY, INC.\" - Website:  No website found\n",
      "\n",
      "\n",
      "\n",
      "\n",
      "\n",
      "Gemini response for \" LESLIE A. FEAST CONSTRUCTION COMPANY, INC.\" - NAICS_Code:  No information found\n",
      "\n",
      "\n",
      "\n",
      "\n",
      "\n",
      "Gemini response for \" LESLIE A. FEAST CONSTRUCTION COMPANY, INC.\" - SIC_Code:  No information found\n",
      "\n",
      "\n",
      "\n",
      "Gemini response for \" LESLIE A. FEAST CONSTRUCTION COMPANY, INC.\" - Status:  No information found\n",
      "\n",
      "\n",
      "\n",
      "Inserting new firm:,  \"R\" ROCKY RANCH, INC.\n",
      "Gemini response for \"R\" ROCKY RANCH, INC. - Registered_Address:  26500 County Rd 23, Rocky Ford, Colorado, USA, 81067\n",
      "\n",
      "Gemini response for \"R\" ROCKY RANCH, INC. - CEO:  Mike Brooks\n",
      "\n",
      "Gemini response for \"R\" ROCKY RANCH, INC. - Establishment_Year:  1990\n",
      "\n",
      "\n",
      "\n",
      "Gemini response for \"R\" ROCKY RANCH, INC. - Number_Of_Employees:  1-10\n",
      "\n",
      "\n",
      "\n",
      "\n",
      "\n",
      "Gemini response for \"R\" ROCKY RANCH, INC. - Revenue_Size:  $100000-1000000\n",
      "\n",
      "\n",
      "\n",
      "\n",
      "\n",
      "Gemini response for \"R\" ROCKY RANCH, INC. - Website:  rockyaranch.com\n",
      "\n",
      "\n",
      "\n",
      "Gemini response for \"R\" ROCKY RANCH, INC. - NAICS_Code:  112990\n",
      "\n",
      "\n",
      "\n",
      "\n",
      "Gemini response for \"R\" ROCKY RANCH, INC. - SIC_Code:  0199\n",
      "\n",
      "\n",
      "\n",
      "Gemini response for \"R\" ROCKY RANCH, INC. - Status:  Active\n",
      "\n"
     ]
    }
   ],
   "source": [
    "for web_search_result in firm_web_search_results:\n",
    "    firm_id = web_search_result[0]\n",
    "    firm_name = web_search_result[1]\n",
    "\n",
    "    # Check if firm already exists, insert row if it doesnt\n",
    "\n",
    "    cursor.execute(f\"SELECT id FROM {table_name} WHERE id = ? AND Firm_Name = ?\", (firm_id, firm_name,))\n",
    "    firm_row = cursor.fetchone()\n",
    "    if firm_row is None:\n",
    "        print(\"Inserting new firm:, \", firm_name)\n",
    "        cursor.execute(f\"INSERT INTO {table_name} (Firm_Name) VALUES (?)\", (firm_name,))\n",
    "        firm_id = cursor.lastrowid  \n",
    "    else:\n",
    "        # Get the existing firm's id\n",
    "        print(\"Found row for firm, \", firm_name)\n",
    "        firm_id = firm_row[0]\n",
    "    \n",
    "\n",
    "    # Fill in each field\n",
    "    for field in fields:\n",
    "        # Check if the field value in the target database is NULL\n",
    "        cursor.execute(f\"SELECT {field} FROM {table_name} WHERE id = ? AND Firm_Name = ? AND {field} IS NOT NULL\", (firm_id,firm_name,))\n",
    "        if cursor.fetchone() is not None:\n",
    "            print(f\"Field '{field}' already has data for firm '{firm_name}', skipping.\")\n",
    "            continue\n",
    "      \n",
    "\n",
    "        # Query Gemini\n",
    "        # Update queries with firm name\n",
    "        updated_queries = {key: value.format(firm_name=firm_name) for key, value in field_to_query.items()}\n",
    "        # pass promot ot gemini\n",
    "        prompt = form_prompt(updated_queries[field])\n",
    "\n",
    "        # Send the prompt to model, try 3 times to get a response\n",
    "        success = False\n",
    "        failure_counter = 0\n",
    "        while not success and failure_counter < 3:\n",
    "            try:\n",
    "                response = chat_session.send_message(prompt,tools='google_search_retrieval').text\n",
    "                # print(\"Success for \", firm_name, field)\n",
    "                success = True\n",
    "            except Exception as e:\n",
    "                print(\"Exception occured: \", e)\n",
    "                time.sleep(1) \n",
    "                failure_counter += 1\n",
    "                \n",
    "        print(f\"Gemini response for {firm_name} - {field}: \", response)\n",
    "        # Update database\n",
    "        cursor.execute(f\"INSERT INTO {table_name} (Firm_Name, {field}) VALUES (?, ?)\", (firm_name, response))\n",
    "        conn.commit()"
   ]
  },
  {
   "cell_type": "markdown",
   "metadata": {},
   "source": [
    "Versioning Notes\n",
    "- firm_properties_gemini_with_grounding_v2\n",
    "    - Data source: Grounding with Google Search\n",
    "    - Answer Format: answer_format_v1\n",
    "    - Queries: field_to_query_v1\n",
    "    - Model: 1.5-models/gemini-1.5-pro-002"
   ]
  },
  {
   "cell_type": "code",
   "execution_count": 54,
   "metadata": {},
   "outputs": [
    {
     "data": {
      "text/plain": [
       "'firm_properties_gemini_with_grounding_v2'"
      ]
     },
     "execution_count": 54,
     "metadata": {},
     "output_type": "execute_result"
    }
   ],
   "source": [
    "table_name"
   ]
  },
  {
   "cell_type": "markdown",
   "metadata": {},
   "source": []
  }
 ],
 "metadata": {
  "kernelspec": {
   "display_name": "equifax_practicum",
   "language": "python",
   "name": "python3"
  },
  "language_info": {
   "codemirror_mode": {
    "name": "ipython",
    "version": 3
   },
   "file_extension": ".py",
   "mimetype": "text/x-python",
   "name": "python",
   "nbconvert_exporter": "python",
   "pygments_lexer": "ipython3",
   "version": "3.12.7"
  }
 },
 "nbformat": 4,
 "nbformat_minor": 2
}
