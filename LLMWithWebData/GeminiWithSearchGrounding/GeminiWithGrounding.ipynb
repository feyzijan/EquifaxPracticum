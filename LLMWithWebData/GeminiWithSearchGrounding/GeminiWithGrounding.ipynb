{
 "cells": [
  {
   "cell_type": "code",
   "execution_count": 78,
   "metadata": {},
   "outputs": [
    {
     "data": {
      "text/plain": [
       "True"
      ]
     },
     "execution_count": 78,
     "metadata": {},
     "output_type": "execute_result"
    }
   ],
   "source": [
    "import pandas as pd\n",
    "from dotenv import load_dotenv\n",
    "import os\n",
    "import google.generativeai as genai\n",
    "import json\n",
    "import time\n",
    "import sqlite3\n",
    "load_dotenv()"
   ]
  },
  {
   "cell_type": "markdown",
   "metadata": {},
   "source": [
    "Define fields except firm name"
   ]
  },
  {
   "cell_type": "code",
   "execution_count": 79,
   "metadata": {},
   "outputs": [],
   "source": [
    "fields = [\"Registered_Address\", \"CEO\", \"Establishment_Year\", \"Number_Of_Employees\", \"Revenue_Size\" ,\n",
    "        \"Website\", \"NAICS_Code\", \"SIC_Code\", \"Status\" ]"
   ]
  },
  {
   "cell_type": "markdown",
   "metadata": {},
   "source": [
    "I'm using this to test how getting predictions just using gemini (without the databases) works"
   ]
  },
  {
   "cell_type": "code",
   "execution_count": 80,
   "metadata": {},
   "outputs": [],
   "source": [
    "genai.configure(api_key=os.environ[\"GEMINI_API_KEY\"])\n",
    "\n",
    "# Create the model\n",
    "generation_config = {\n",
    "  \"temperature\": 1,\n",
    "  \"top_p\": 0.95,\n",
    "  \"top_k\": 40,\n",
    "  \"max_output_tokens\": 8192,\n",
    "  \"response_mime_type\": \"text/plain\",\n",
    "}\n",
    "\n",
    "model = genai.GenerativeModel(\n",
    "  model_name=\"models/gemini-1.5-pro-002\",\n",
    "  # generation_config=generation_config,\n",
    ")\n",
    "\n",
    "# chat_session = model.start_chat(\n",
    "#   history=[\n",
    "#   ]\n",
    "# )"
   ]
  },
  {
   "cell_type": "markdown",
   "metadata": {},
   "source": [
    "Test responses"
   ]
  },
  {
   "cell_type": "code",
   "execution_count": 81,
   "metadata": {},
   "outputs": [],
   "source": [
    "# response = chat_session.send_message(\"How many people died in the recent floods in Valencia?\", tools='google_search_retrieval')\n",
    "# response = model.generate_content(contents=\"What is the land area of Spain?\", tools='google_search_retrieval' )\n",
    "# print(response.text)"
   ]
  },
  {
   "cell_type": "markdown",
   "metadata": {},
   "source": [
    "Function to form prompt to give gemini"
   ]
  },
  {
   "cell_type": "markdown",
   "metadata": {},
   "source": [
    "Make sure gemini returns one answer or Null to each query instead of a paragraph"
   ]
  },
  {
   "cell_type": "code",
   "execution_count": 82,
   "metadata": {},
   "outputs": [],
   "source": [
    "answer_format_v1 = \"\"\"\n",
    "If you have absolutely no idea on how to answer my query please write 'No information found'. \n",
    "Do not leave the answer blank or give me a long explanation on why you couldn't find the answer or an explanation of your answer.\n",
    "If you find multiple possible answers return your best answer.\n",
    "To reiterate i just want you to give a short answer in the format described above. Do not give me a long textual response.\"\"\""
   ]
  },
  {
   "cell_type": "code",
   "execution_count": 83,
   "metadata": {},
   "outputs": [],
   "source": [
    "context_single_answer_v1 = \"\"\"\n",
    "I will ask you a series of questions about a company. Please provide the required information in a single answer,\n",
    "making sure that your answer to each of my queries is separated by the following delimiter '*-*'. \n",
    "Simply write the answers in order separated by '*-*', do not repeat the questions or the field names.'\n",
    "My questions are as follows: \"\"\"\n",
    "\n",
    "context = context_single_answer_v1"
   ]
  },
  {
   "cell_type": "code",
   "execution_count": 84,
   "metadata": {},
   "outputs": [],
   "source": [
    "def form_prompt(query):\n",
    "    prompt = f\"\"\"\n",
    "    {context}\n",
    "    {query}.\n",
    "    {answer_format_v1}\n",
    "    \"\"\"\n",
    "    return prompt"
   ]
  },
  {
   "cell_type": "markdown",
   "metadata": {},
   "source": [
    "Define the queries we will give Gemini for each field. We need to specify the type of output we expect etc. May need some prompt engineering here"
   ]
  },
  {
   "cell_type": "code",
   "execution_count": 85,
   "metadata": {},
   "outputs": [],
   "source": [
    "field_to_query_v1 = {\n",
    "        \"Registered_Address\": \"Tell me the Registered Adress for the firm named {firm_name}. Your answer should consist of the street address, city, state, country, and postal code.\",\n",
    "        \"CEO\": \"Tell me the name and surname of the CEO for the firm named {firm_name}. Your answer should be in the format 'Name Surname'\",\n",
    "        \"Establishment_Year\": \"Tell me the establishment year of {firm_name}. Your answer should be 4 digits in the format YYYY\",\n",
    "        \"Number_Of_Employees\": \"Tell me the estimated number of employees for the firm named {firm_name}. Your answer should be an approximate range, like 1-10, 10-100, 100-1000, 1000-10000, 10000+ etc. You can specify other ranges like 200-250 if you wish.\",\n",
    "        \"Revenue_Size\": \"Tell me the estimated annual revenue in dollars for the firm named {firm_name}. Your answer should be an approximate range, 10000-100000, 1000000-10000000, or 1000000000+ etc. You can specify other ranges like 200-250 if you wish.\",\n",
    "        \"Website\": \"Tell me the url of the official website of for the firm named {firm_name}. If you can't find a website for the firm, please write 'No website found'\",\n",
    "        \"NAICS_Code\": \"Tell me the numeric NAICS code for the firm named {firm_name}.\",\n",
    "        \"SIC_Code\":  \"Tell me the numeric SIC code for the firm named {firm_name}.\",\n",
    "        \"Status\": \"Tell me the whether the firm named {firm_name} is Active or Dissolved. Answer with one word.\",\n",
    "}\n",
    "\n",
    "\n",
    "field_to_query = field_to_query_v1"
   ]
  },
  {
   "cell_type": "markdown",
   "metadata": {},
   "source": [
    "TODO - Check if gemini remembers recent context like below. May be helpful to give a general context first, then ask each query, making sure the context resets with each firm"
   ]
  },
  {
   "cell_type": "markdown",
   "metadata": {},
   "source": [
    "### Open firm databases"
   ]
  },
  {
   "cell_type": "code",
   "execution_count": 86,
   "metadata": {},
   "outputs": [],
   "source": [
    "# Table to store the results\n",
    "conn = sqlite3.connect(\"firm_database_gemini_with_grounding.db\")\n",
    "cursor = conn.cursor()\n"
   ]
  },
  {
   "cell_type": "code",
   "execution_count": 87,
   "metadata": {},
   "outputs": [
    {
     "name": "stdout",
     "output_type": "stream",
     "text": [
      "[('sqlite_sequence',), ('firm_properties_gemini_with_grounding_v1',), ('firm_properties_gemini_with_grounding_v2',)]\n"
     ]
    }
   ],
   "source": [
    "# Check existing tables and drop if you want\n",
    "\n",
    "# Check existing tables\n",
    "existing_tables = cursor.execute(\"SELECT name FROM sqlite_master WHERE type='table';\").fetchall()\n",
    "print(existing_tables)"
   ]
  },
  {
   "cell_type": "markdown",
   "metadata": {},
   "source": [
    "Drop tables if needed"
   ]
  },
  {
   "cell_type": "code",
   "execution_count": 88,
   "metadata": {},
   "outputs": [],
   "source": [
    "# table_to_drop = \"firm_properties_gemini_with_grounding_v2\"\n",
    "# cursor.execute(f\"DROP TABLE IF EXISTS {table_to_drop} \")\n",
    "# conn.commit()"
   ]
  },
  {
   "cell_type": "markdown",
   "metadata": {},
   "source": [
    "Create table"
   ]
  },
  {
   "cell_type": "code",
   "execution_count": 89,
   "metadata": {},
   "outputs": [
    {
     "data": {
      "text/plain": [
       "<sqlite3.Cursor at 0x13f9462c0>"
      ]
     },
     "execution_count": 89,
     "metadata": {},
     "output_type": "execute_result"
    }
   ],
   "source": [
    "# You can create different tables for different prompt types, gemini model etc, if you rename the table\n",
    "table_name = \"firm_properties_gemini_with_grounding_v2\"\n",
    "\n",
    "cursor.execute(f'''\n",
    "CREATE TABLE IF NOT EXISTS {table_name} (\n",
    "               id INTEGER PRIMARY KEY,\n",
    "               Firm_Name TEXT NOT NULL,\n",
    "               Registered_Address TEXT,\n",
    "               CEO TEXT,\n",
    "               Establishment_Year INT,\n",
    "               Number_Of_Employees TEXT,\n",
    "               Revenue_Size TEXT,\n",
    "               Website TEXT,\n",
    "               NAICS_Code INT,\n",
    "               SIC_Code INT,\n",
    "               Status TEXT\n",
    "               )\n",
    "               ''')"
   ]
  },
  {
   "cell_type": "markdown",
   "metadata": {},
   "source": [
    "Check how many rows are in the current table"
   ]
  },
  {
   "cell_type": "code",
   "execution_count": 90,
   "metadata": {},
   "outputs": [
    {
     "data": {
      "text/plain": [
       "[(0,)]"
      ]
     },
     "execution_count": 90,
     "metadata": {},
     "output_type": "execute_result"
    }
   ],
   "source": [
    "cursor.execute(f\"SELECT COUNT(*) FROM {table_name}\").fetchall()"
   ]
  },
  {
   "cell_type": "code",
   "execution_count": 91,
   "metadata": {},
   "outputs": [
    {
     "data": {
      "text/plain": [
       "[]"
      ]
     },
     "execution_count": 91,
     "metadata": {},
     "output_type": "execute_result"
    }
   ],
   "source": [
    "cursor.execute(f\"SELECT  * FROM {table_name}\").fetchall()"
   ]
  },
  {
   "cell_type": "markdown",
   "metadata": {},
   "source": [
    "Check for specific entry"
   ]
  },
  {
   "cell_type": "code",
   "execution_count": 92,
   "metadata": {},
   "outputs": [
    {
     "name": "stdout",
     "output_type": "stream",
     "text": [
      "None\n"
     ]
    }
   ],
   "source": [
    "field = 'Registered_Address'\n",
    "firm_id = 26\n",
    "cursor.execute(f\"SELECT {field} FROM {table_name} WHERE id = ? AND {field} IS NOT NULL\", (firm_id,))\n",
    "print(cursor.fetchone())\n",
    "if cursor.fetchone() is not None:\n",
    "    print(f\"Field '{field}' already has data for firm , skipping.\")"
   ]
  },
  {
   "cell_type": "markdown",
   "metadata": {},
   "source": [
    "# Update the database"
   ]
  },
  {
   "cell_type": "markdown",
   "metadata": {},
   "source": [
    "### Get the list of firms from the web search database so as to be consistent"
   ]
  },
  {
   "cell_type": "code",
   "execution_count": 93,
   "metadata": {},
   "outputs": [],
   "source": [
    "conn_web_results = sqlite3.connect(\"../firms_web_search_results.db\")\n",
    "cursor_websearch = conn_web_results.cursor()"
   ]
  },
  {
   "cell_type": "markdown",
   "metadata": {},
   "source": [
    "Select Subset of firms for testing"
   ]
  },
  {
   "cell_type": "code",
   "execution_count": 94,
   "metadata": {},
   "outputs": [
    {
     "data": {
      "text/plain": [
       "[(1, '\"TRACTION POWER SYSTEMS, INC.\"'),\n",
       " (2, '\"A DAY TO REMEMBER\", LLC'),\n",
       " (3, '\" MALCO INC. -A NEVADA CORP.'),\n",
       " (4, \".BISHOP'S GATE RESIDENTIAL MORTGAGE TRUST\"),\n",
       " (5, '\"J.CRESCI FARMS, L.L.C.\"'),\n",
       " (6, '1 MAN ARMY GOURMET FOODS LLC'),\n",
       " (7, '10-Code, LLC'),\n",
       " (8, \"'Dat Hit Da Spot' LLC\"),\n",
       " (9, '\" LESLIE A. FEAST CONSTRUCTION COMPANY, INC.\"'),\n",
       " (10, '\"R\" ROCKY RANCH, INC.'),\n",
       " (11, '\"FLEMING COUNTY KIWANIS CLUB INCORPORATED.\"'),\n",
       " (12, '$6 & $8 FASHIONS, INC.'),\n",
       " (13, \"'JOSE ALFREDO PEREZ LOPEZ LLC\"),\n",
       " (14, '\"B & S GRAIN, LTD.\"'),\n",
       " (15, '\"THE SUMMIT, L.L.C.\"'),\n",
       " (16, '\"Foam It\" Spray Foam Insulation, LLC'),\n",
       " (17, '\"C.C.C. INC.\"'),\n",
       " (18, '(N)SQUARED ADVISORY, LLC'),\n",
       " (19, '#forabetternevada LLC'),\n",
       " (20, '#2 BLACKBOARD PROPERTIES, LLC'),\n",
       " (21, '\"THE TRADES\" GROUP, INC.'),\n",
       " (22, '008 PROJECT MANAGEMENT, LLC'),\n",
       " (23, '\" C\" CLUB INC.'),\n",
       " (24, '\"SENN\"SATIONAL CREATIONS, LLC'),\n",
       " (25, \"'4' WHEELER'S HUNTING CLUB\"),\n",
       " (26, '\"ECHO LODGE NO. 103, OF THE INDEPENDENT ORDER OF ODD FELLOWS\"'),\n",
       " (27, '1 By One Property Preservations, LLC'),\n",
       " (28, '\"Abstracting\" by Professionals, Inc.'),\n",
       " (29, '\"ARTHUR AND HILDE ERICKSON FAMILY LLLP\"'),\n",
       " (30, '\"M DOUBLE J\" ENGINEERING SERVICES, INC.'),\n",
       " (31, '1031X, LLC'),\n",
       " (32, '\"MASS TRANSIT POLICE LODGE #101 OF FRATERNAL ORDER OF POLICE, INC.'),\n",
       " (33, '\"MAUI TIME\" VACATION RENTALS LLC'),\n",
       " (34, '\"A\\'s\" Sparkle Mobile Detail - Lawn Care/Janitorial Services, LLC'),\n",
       " (35, '!FESTCOFFEEMISSION US INC.'),\n",
       " (36, '+7 ENTERPRISES, LLC'),\n",
       " (37, '\"INTERLACHEN HISTORIANS\"'),\n",
       " (38, '\"MISSION ALBUQUERQUE: A MINISTRY OF THE CHURCH OF THE NAZARENE\".'),\n",
       " (39, '\"TAOS MOUNTAIN FLYERS\" EAA CHAPTER 1436'),\n",
       " (40, '007 transport llc'),\n",
       " (41, '\"GQUINERG EMPWRRD ENERRGG \"LLC\"\"'),\n",
       " (42,\n",
       "  '\"DUKA-TRADE\" MARKETING AND MANAGEMENT FOR STEEL MANUFACTURE, TRADING INC.'),\n",
       " (43, '\"SUPREME\" CLEANING COMPANY'),\n",
       " (44, '\"DETAILER\\'S CHOICE\", INC.'),\n",
       " (45, '101 MACRAE ROAD II, LLC'),\n",
       " (46, '\"GET WHERE YOU SHOULD BE!\" INC.'),\n",
       " (47, '\"RUBY SILVER\" MINING COMPANY'),\n",
       " (48, '\"RON DE VU\" SOCIAL CLUB'),\n",
       " (49, '\"CELTIC KNOTS\" A FILM L.P.'),\n",
       " (50, '!mpressed, LLC'),\n",
       " (51, '#01A.D.A.P.T. Driver & Life Education LLC'),\n",
       " (52, '\"HOLTZ CHARITABLE FOUNDATION, INC.\"'),\n",
       " (53, '\"308\" INC.'),\n",
       " (54, '#07 82 CHAMPION, LLC'),\n",
       " (55, '\"NORTHLAND RACING CLUB INC.\"'),\n",
       " (56, '\"A & R, Repossession and Collection, Inc.\"'),\n",
       " (57, '\" THE MUSIC MINISTER\" LLC'),\n",
       " (58, \"'64' TRANSPORT, LLC\"),\n",
       " (59, '\"A CHALLENGING WORD, FOR A CHANGING WORLD\" MINISTIRES'),\n",
       " (60, '! #1 HOST UNITED KINGDOM INC.'),\n",
       " (61, '\"THE SEED PROJECT\"'),\n",
       " (62, '\"FLAT RIVER BAND LLC\"'),\n",
       " (63, '\"CARRY THE LIGHT\" MINISTRIES'),\n",
       " (64, '\"H20\\'S CONSTRUCTION GROUP, INC\"'),\n",
       " (65, '\" BRAND\" NAME COMPUTER SERVICES, INC.'),\n",
       " (66, '\"A\" HAPPY CAB, LLC'),\n",
       " (67, '\"SPARKY\\'S TRUCKING, LLC\"'),\n",
       " (68, '\"Atypical\" Vibe Productions LLC'),\n",
       " (69, '\" BRIDGE\" OF FRANCE, LTD.'),\n",
       " (70, '\"FAST PEP\", INC.'),\n",
       " (71, '\"I AM\" BUSINESS THERAPY & TRAINING CORPORATION'),\n",
       " (72, '\" BIG\" STEVE DISTRIBUTOR, BRONX, N.Y., INC.'),\n",
       " (73, '\"A\" Tree Service & Landscape, Inc.'),\n",
       " (74, \"'J' STREET DEVELOPMENT, INC.\"),\n",
       " (75, '+ Cash Flow = Happiness LLC'),\n",
       " (76, '\"3\" ACES LLC'),\n",
       " (77,\n",
       "  '\"\"\"...SUPPORTING EDUCATIONAL OPPORTUNITIES FOR GAY, LESBIAN, BISEXUAL AND TRANSGENDERED STUDENTS ACCROSS IOWA\"\"\"'),\n",
       " (78, '\"R\" Bryant Enterprises, Inc.'),\n",
       " (79,\n",
       "  '\"1808 N. 40th Street\"., an individual Protected Series of ZONO HOLDINGS KS LLC, A SERIES LLC'),\n",
       " (80, '\"3IN1 P.E.T.\", LLC'),\n",
       " (81, '\"BIG K\" SOUND SYSTEM'),\n",
       " (82, '\"ABORIOUS, CO\"'),\n",
       " (83, '#1 A Lifesafer Distribution, Inc.'),\n",
       " (84, '\"Top Notch\" Lawn and Home Care, L.L.C.'),\n",
       " (85, '(503) REAL ESTATE, LLC'),\n",
       " (86, '#5 MUD LAKE, LLC'),\n",
       " (87, '#1 - 56 Union LLC'),\n",
       " (88, '\"\"\"AMAZING MAISE\"\"\"'),\n",
       " (89, '\"GIFT CARD SURPRISE\" FLYER DELIVERY SERVICE, LLC'),\n",
       " (90, '\"KUTZ \"N\" DYE BEAUTY SALON LLC \"'),\n",
       " (91, '\"HARDY\\'S TRUCK PARTS, INC.\"'),\n",
       " (92, '\"C\" Street Development, Inc.'),\n",
       " (93, '\"BUG OUT\"-LET, LLC'),\n",
       " (94, '\"A\" POSITIVE SERVICES, LLC'),\n",
       " (95, '0&1, LLC'),\n",
       " (96, '\"1ST CARE AFH LLC'),\n",
       " (97, '0 CEDAR ROAD LLC'),\n",
       " (98, '\"GO & SEND\"'),\n",
       " (99, '\"A Suttle Event\" L.L.C.'),\n",
       " (100, \"'NDEPNDNT KONCPTZ NETWORKS, LLC\")]"
      ]
     },
     "execution_count": 94,
     "metadata": {},
     "output_type": "execute_result"
    }
   ],
   "source": [
    "cursor_websearch.execute(''' SELECT id, Firm_Name FROM firms_web_search_results ORDER BY id ASC''')\n",
    "firm_web_search_results = cursor_websearch.fetchall()\n",
    "firm_web_search_results = firm_web_search_results[:100]\n",
    "firm_web_search_results"
   ]
  },
  {
   "cell_type": "markdown",
   "metadata": {},
   "source": [
    "### Main Loop - Single Query Per Field"
   ]
  },
  {
   "cell_type": "markdown",
   "metadata": {},
   "source": [
    "Fill database using a single query for each field"
   ]
  },
  {
   "cell_type": "code",
   "execution_count": 95,
   "metadata": {},
   "outputs": [],
   "source": [
    "single_query_per_field = False"
   ]
  },
  {
   "cell_type": "code",
   "execution_count": 96,
   "metadata": {},
   "outputs": [],
   "source": [
    "\n",
    "if single_query_per_field:\n",
    "    for web_search_result in firm_web_search_results:\n",
    "        firm_id = web_search_result[0]\n",
    "        firm_name = web_search_result[1]\n",
    "\n",
    "        # Check if firm already exists, insert row if it doesnt\n",
    "\n",
    "        cursor.execute(f\"SELECT id FROM {table_name} WHERE id = ? AND Firm_Name = ?\", (firm_id, firm_name,))\n",
    "        firm_row = cursor.fetchone()\n",
    "        if firm_row is None:\n",
    "            print(\"Inserting new firm:, \", firm_name)\n",
    "            cursor.execute(f\"INSERT INTO {table_name} (Firm_Name) VALUES (?)\", (firm_name,))\n",
    "            firm_id = cursor.lastrowid  \n",
    "        else:\n",
    "            # Get the existing firm's id\n",
    "            print(\"Found row for firm, \", firm_name)\n",
    "            firm_id = firm_row[0]\n",
    "        \n",
    "\n",
    "\n",
    "        # Update queries with firm name\n",
    "        updated_queries = {key: value.format(firm_name=firm_name) for key, value in field_to_query.items()}\n",
    "\n",
    "        # Fill in each field\n",
    "        for field in fields:\n",
    "            # Check if the field value in the target database is NULL\n",
    "            cursor.execute(f\"SELECT {field} FROM {table_name} WHERE id = ? AND Firm_Name = ? AND {field} IS NOT NULL\", (firm_id,firm_name,))\n",
    "            if cursor.fetchone() is not None:\n",
    "                print(f\"Field '{field}' already has data for firm '{firm_name}', skipping.\")\n",
    "                continue\n",
    "        \n",
    "\n",
    "            # Query Gemini\n",
    "            # pass promot ot gemini\n",
    "            prompt = form_prompt(updated_queries[field])\n",
    "\n",
    "            # Send the prompt to model, try 3 times to get a response\n",
    "            success = False\n",
    "            response = None \n",
    "            failure_counter = 0\n",
    "            while not success and failure_counter < 3:\n",
    "                try:\n",
    "                    response = model.generate_content(prompt,tools='google_search_retrieval').text\n",
    "                    # print(\"Success for \", firm_name, field)\n",
    "                    success = True\n",
    "                except Exception as e:\n",
    "                    print(\"Exception occured: \", e)\n",
    "                    time.sleep(1) \n",
    "                    failure_counter += 1\n",
    "                        \n",
    "            print(f\"Gemini response for {firm_name} - {field}: \", response)\n",
    "            # Update database\n",
    "            cursor.execute(f\"UPDATE {table_name} SET {field} = ? WHERE Firm_Name = ? AND id = ?\",\n",
    "                (response, firm_name, firm_id))\n",
    "            conn.commit()\n",
    "    cursor.close()\n",
    "    conn.close()\n",
    "    cursor_websearch.close()\n",
    "    conn_web_results.close()"
   ]
  },
  {
   "cell_type": "markdown",
   "metadata": {},
   "source": [
    "### Main Loop with single query for each field"
   ]
  },
  {
   "cell_type": "code",
   "execution_count": 97,
   "metadata": {},
   "outputs": [
    {
     "name": "stdout",
     "output_type": "stream",
     "text": [
      "Inserting new firm:,  \"TRACTION POWER SYSTEMS, INC.\"\n"
     ]
    },
    {
     "ename": "OperationalError",
     "evalue": "database is locked",
     "output_type": "error",
     "traceback": [
      "\u001b[0;31m---------------------------------------------------------------------------\u001b[0m",
      "\u001b[0;31mOperationalError\u001b[0m                          Traceback (most recent call last)",
      "Cell \u001b[0;32mIn[97], line 12\u001b[0m\n\u001b[1;32m     10\u001b[0m \u001b[38;5;28;01mif\u001b[39;00m firm_row \u001b[38;5;129;01mis\u001b[39;00m \u001b[38;5;28;01mNone\u001b[39;00m:\n\u001b[1;32m     11\u001b[0m     \u001b[38;5;28mprint\u001b[39m(\u001b[38;5;124m\"\u001b[39m\u001b[38;5;124mInserting new firm:, \u001b[39m\u001b[38;5;124m\"\u001b[39m, firm_name)\n\u001b[0;32m---> 12\u001b[0m     cursor\u001b[38;5;241m.\u001b[39mexecute(\u001b[38;5;124mf\u001b[39m\u001b[38;5;124m\"\u001b[39m\u001b[38;5;124mINSERT INTO \u001b[39m\u001b[38;5;132;01m{\u001b[39;00mtable_name\u001b[38;5;132;01m}\u001b[39;00m\u001b[38;5;124m (Firm_Name) VALUES (?)\u001b[39m\u001b[38;5;124m\"\u001b[39m, (firm_name,))\n\u001b[1;32m     13\u001b[0m     firm_id \u001b[38;5;241m=\u001b[39m cursor\u001b[38;5;241m.\u001b[39mlastrowid  \n\u001b[1;32m     14\u001b[0m \u001b[38;5;28;01melse\u001b[39;00m:\n\u001b[1;32m     15\u001b[0m     \u001b[38;5;66;03m# Get the existing firm's id\u001b[39;00m\n",
      "\u001b[0;31mOperationalError\u001b[0m: database is locked"
     ]
    }
   ],
   "source": [
    "if not single_query_per_field:\n",
    "    for web_search_result in firm_web_search_results:\n",
    "        firm_id = web_search_result[0]\n",
    "        firm_name = web_search_result[1]\n",
    "\n",
    "        # Check if firm already exists, insert row if it doesnt\n",
    "\n",
    "        cursor.execute(f\"SELECT id FROM {table_name} WHERE id = ? AND Firm_Name = ?\", (firm_id, firm_name,))\n",
    "        firm_row = cursor.fetchone()\n",
    "        if firm_row is None:\n",
    "            print(\"Inserting new firm:, \", firm_name)\n",
    "            cursor.execute(f\"INSERT INTO {table_name} (Firm_Name) VALUES (?)\", (firm_name,))\n",
    "            firm_id = cursor.lastrowid  \n",
    "        else:\n",
    "            # Get the existing firm's id\n",
    "            print(\"Found row for firm, \", firm_name)\n",
    "            firm_id = firm_row[0]\n",
    "        \n",
    "\n",
    "\n",
    "        # Update queries with firm name\n",
    "        updated_queries = {key: value.format(firm_name=firm_name) for key, value in field_to_query.items()}\n",
    "\n",
    "        # Fill in every field at the same time\n",
    "        \n",
    "        # Query Gemini\n",
    "        # pass promot ot gemini\n",
    "        prompt = form_prompt(updated_queries)\n",
    "\n",
    "        # Send the prompt to model, try 3 times to get a response\n",
    "        success = False\n",
    "        response = None \n",
    "        failure_counter = 0\n",
    "        while not success and failure_counter < 3:\n",
    "            try:\n",
    "                response = model.generate_content(prompt,tools='google_search_retrieval').text\n",
    "                # print(\"Success for \", firm_name, field)\n",
    "                success = True\n",
    "            except Exception as e:\n",
    "                print(\"Exception occured: \", e)\n",
    "                time.sleep(1) \n",
    "                failure_counter += 1\n",
    "\n",
    "        print(f\"Gemini response for {firm_name}: \", response)\n",
    "        answers_per_field = response.split(\"*-*\")\n",
    "        if len(answers_per_field) != len(fields):\n",
    "            print(\"Error: Number of answers do not match number of fields\")\n",
    "            continue\n",
    "        for field, answer in zip(fields, answers_per_field):\n",
    "\n",
    "            # # strip out field name if it is in the answer\n",
    "            # if field + \":\" in answer:\n",
    "            #     answer = answer.replace(field + \":\", \"\")\n",
    "\n",
    "            print(f\"Gemini response for {firm_name} - {field}: \", answer)\n",
    "            \n",
    "            cursor.execute(f\"UPDATE {table_name} SET {field} = ? WHERE Firm_Name = ? AND id = ?\", (answer, firm_name, firm_id))\n",
    "            conn.commit()\n",
    "\n",
    "    cursor.close()\n",
    "    conn.close()\n",
    "    cursor_websearch.close()\n",
    "    conn_web_results.close()"
   ]
  },
  {
   "cell_type": "code",
   "execution_count": 77,
   "metadata": {},
   "outputs": [],
   "source": [
    "cursor.close()\n",
    "conn.close()\n",
    "cursor_websearch.close()\n",
    "conn_web_results.close()"
   ]
  },
  {
   "cell_type": "code",
   "execution_count": 54,
   "metadata": {},
   "outputs": [
    {
     "data": {
      "text/plain": [
       "'firm_properties_gemini_with_grounding_v2'"
      ]
     },
     "execution_count": 54,
     "metadata": {},
     "output_type": "execute_result"
    }
   ],
   "source": [
    "table_name"
   ]
  },
  {
   "cell_type": "markdown",
   "metadata": {},
   "source": [
    "TODO:\n",
    "- strip new line from gemini responses\n",
    "- problem with it still returning paragraphs\n",
    "- limit token output, \n",
    "    - limit token output when p value is low"
   ]
  }
 ],
 "metadata": {
  "kernelspec": {
   "display_name": "equifax_practicum",
   "language": "python",
   "name": "python3"
  },
  "language_info": {
   "codemirror_mode": {
    "name": "ipython",
    "version": 3
   },
   "file_extension": ".py",
   "mimetype": "text/x-python",
   "name": "python",
   "nbconvert_exporter": "python",
   "pygments_lexer": "ipython3",
   "version": "3.12.7"
  }
 },
 "nbformat": 4,
 "nbformat_minor": 2
}
