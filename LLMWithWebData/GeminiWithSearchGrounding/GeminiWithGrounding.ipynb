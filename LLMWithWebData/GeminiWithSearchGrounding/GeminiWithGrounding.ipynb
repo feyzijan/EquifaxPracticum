{
 "cells": [
  {
   "cell_type": "code",
   "execution_count": 62,
   "metadata": {},
   "outputs": [
    {
     "data": {
      "text/plain": [
       "True"
      ]
     },
     "execution_count": 62,
     "metadata": {},
     "output_type": "execute_result"
    }
   ],
   "source": [
    "import pandas as pd\n",
    "from dotenv import load_dotenv\n",
    "import os\n",
    "import google.generativeai as genai\n",
    "import json\n",
    "import time\n",
    "import sqlite3\n",
    "load_dotenv()"
   ]
  },
  {
   "cell_type": "markdown",
   "metadata": {},
   "source": [
    "Define fields except firm name"
   ]
  },
  {
   "cell_type": "code",
   "execution_count": 63,
   "metadata": {},
   "outputs": [],
   "source": [
    "fields = [\"Registered_Address\", \"CEO\", \"Establishment_Year\", \"Number_Of_Employees\", \"Revenue_Size\" ,\n",
    "        \"Website\", \"NAICS_Code\", \"SIC_Code\", \"Status\" ]"
   ]
  },
  {
   "cell_type": "markdown",
   "metadata": {},
   "source": [
    "I'm using this to test how getting predictions just using gemini (without the databases) works"
   ]
  },
  {
   "cell_type": "code",
   "execution_count": 64,
   "metadata": {},
   "outputs": [],
   "source": [
    "genai.configure(api_key=os.environ[\"GEMINI_API_KEY\"])\n",
    "\n",
    "# Create the model\n",
    "generation_config = {\n",
    "  \"temperature\": 1,\n",
    "  \"top_p\": 0.95,\n",
    "  \"top_k\": 40,\n",
    "  \"max_output_tokens\": 8192,\n",
    "  \"response_mime_type\": \"text/plain\",\n",
    "}\n",
    "\n",
    "model = genai.GenerativeModel(\n",
    "  model_name=\"models/gemini-1.5-pro-002\",\n",
    "  # generation_config=generation_config,\n",
    ")\n",
    "\n",
    "chat_session = model.start_chat(\n",
    "  history=[\n",
    "  ]\n",
    ")"
   ]
  },
  {
   "cell_type": "markdown",
   "metadata": {},
   "source": [
    "Test responses"
   ]
  },
  {
   "cell_type": "code",
   "execution_count": 65,
   "metadata": {},
   "outputs": [],
   "source": [
    "response = model.generate_content(contents=\"What is the land area of Spain?\",\n",
    "                                  tools='google_search_retrieval')"
   ]
  },
  {
   "cell_type": "code",
   "execution_count": 66,
   "metadata": {},
   "outputs": [
    {
     "name": "stdout",
     "output_type": "stream",
     "text": [
      "As of November 8th, 2024, the death toll from the recent floods in Valencia, Spain, has risen to 223, according to Spain's transport minister.  As of November 9, 2024 another source mentioned at least 220 people died as of Saturday, and about 80 people were still missing.  Earlier reports put the number of deaths at 214 as of November 3rd, with 211 of those in the Valencia region, and later at 217 with 89 missing as of November 5th.  The numbers have continued to be adjusted as more information becomes available.\n",
      "\n"
     ]
    }
   ],
   "source": [
    "response = chat_session.send_message(\"How many people died in the recent floods in Valencia?\", tools='google_search_retrieval')\n",
    "print(response.text)"
   ]
  },
  {
   "cell_type": "markdown",
   "metadata": {},
   "source": [
    "Function to form prompt to give gemini"
   ]
  },
  {
   "cell_type": "markdown",
   "metadata": {},
   "source": [
    "Make sure gemini returns one answer or Null to each query instead of a paragraph"
   ]
  },
  {
   "cell_type": "code",
   "execution_count": 67,
   "metadata": {},
   "outputs": [],
   "source": [
    "answer_format_v1 = \"\"\"\n",
    "If you have absolutely no idea on how to answer my query please write 'No information found'. \n",
    "Do not leave the answer blank or give me a long explanation on why you couldn't find the answer or an explanation of your answer.\n",
    "If you find multiple possible answers return your best answer\n",
    "To reiterate i just want you to give a short answer in the format described above. Do not give me a long textual response.\"\"\""
   ]
  },
  {
   "cell_type": "code",
   "execution_count": 68,
   "metadata": {},
   "outputs": [],
   "source": [
    "def form_prompt(query):\n",
    "    prompt = f\"\"\"\n",
    "    Context:\n",
    "    {query}.\n",
    "    {answer_format_v1}\n",
    "    \"\"\"\n",
    "\n",
    "    return prompt"
   ]
  },
  {
   "cell_type": "markdown",
   "metadata": {},
   "source": [
    "Define the queries we will give Gemini for each field. We need to specify the type of output we expect etc. May need some prompt engineering here"
   ]
  },
  {
   "cell_type": "code",
   "execution_count": 69,
   "metadata": {},
   "outputs": [],
   "source": [
    "field_to_query = {\n",
    "        \"Registered_Address\": \"Tell me the Registered Adress for the firm named {firm_name}. Your answer should consist of the street address, city, state, country, and postal code.\",\n",
    "        \"CEO\": \"Tell me the name and surname of the CEO for the firm named {firm_name}. Your answer should be in the format 'Name Surname'\",\n",
    "        \"Establishment_Year\": \"Tell me the establishment year of {firm_name}. Your answer should be 4 digits in the format YYYY\",\n",
    "        \"Number_Of_Employees\": \"Tell me the estimated number of employees for the firm named {firm_name}. Your answer should be an approximate range, like 1-10, 10-100, 100-1000, 1000-10000, 10000+ etc. You can specify other ranges like 200-250 if you wish.\",\n",
    "        \"Revenue_Size\": \"Tell me the estimated annual revenue in dollars for the firm named {firm_name}. Your answer should be an approximate range, 10000-100000, 1000000-10000000, or 1000000000+ etc. You can specify other ranges like 200-250 if you wish.\",\n",
    "        \"Website\": \"Tell me the url of the official website of for the firm named {firm_name}. If you can't find a website for the firm, please write 'No website found'\",\n",
    "        \"NAICS_Code\": \"Tell me the numeric NAICS code for the firm named {firm_name}.\",\n",
    "        \"SIC_Code\":  \"Tell me the numeric SIC code for the firm named {firm_name}.\",\n",
    "        \"Status\": \"Tell me the whether the firm named {firm_name} is Active or Dissolved. Answer with one word.\",\n",
    "}"
   ]
  },
  {
   "cell_type": "markdown",
   "metadata": {},
   "source": [
    "TODO - Check if gemini remembers recent context like below. May be helpful to give a general context first, then ask each query, making sure the context resets with each firm"
   ]
  },
  {
   "cell_type": "markdown",
   "metadata": {},
   "source": [
    "### Open firm databases"
   ]
  },
  {
   "cell_type": "code",
   "execution_count": 70,
   "metadata": {},
   "outputs": [
    {
     "data": {
      "text/plain": [
       "<sqlite3.Cursor at 0x30222b5c0>"
      ]
     },
     "execution_count": 70,
     "metadata": {},
     "output_type": "execute_result"
    }
   ],
   "source": [
    "# Table to store the results\n",
    "conn = sqlite3.connect(\"firm_database_gemini_with_grounding.db\")\n",
    "cursor = conn.cursor()\n",
    "\n",
    "\n",
    "# Drop the table if you're starting from scratch\n",
    "# cursor.execute('''\n",
    "# DROP TABLE IF EXISTS firm_properties\n",
    "#                ''')\n",
    "\n",
    "\n",
    "table_name = \"firm_properties_gemini_with_grounding_v2\"\n",
    "# You can create different tables for different prompt types, gemini model etc, if you rename the table\n",
    "cursor.execute(f'''\n",
    "CREATE TABLE IF NOT EXISTS {table_name} (\n",
    "               id INTEGER PRIMARY KEY AUTOINCREMENT,\n",
    "               Firm_Name TEXT NOT NULL,\n",
    "               Registered_Address TEXT,\n",
    "               CEO TEXT,\n",
    "               Establishment_Year INT,\n",
    "               Number_Of_Employees TEXT,\n",
    "               Revenue_Size TEXT,\n",
    "               Website TEXT,\n",
    "               NAICS_Code INT,\n",
    "               SIC_Code INT,\n",
    "               Status TEXT\n",
    "               )\n",
    "               ''')"
   ]
  },
  {
   "cell_type": "markdown",
   "metadata": {},
   "source": [
    "Main Loop"
   ]
  },
  {
   "cell_type": "markdown",
   "metadata": {},
   "source": [
    "Get the list of firms from the web search database to be consistent"
   ]
  },
  {
   "cell_type": "code",
   "execution_count": 71,
   "metadata": {},
   "outputs": [],
   "source": [
    "conn_web_results = sqlite3.connect(\"../firms_web_search_results.db\")\n",
    "cursor_websearch = conn_web_results.cursor()\n",
    "cursor_websearch.execute(''' SELECT id, Firm_Name FROM firms_web_search_results ''')\n",
    "firm_web_search_results = cursor_websearch.fetchall()"
   ]
  },
  {
   "cell_type": "code",
   "execution_count": 72,
   "metadata": {},
   "outputs": [
    {
     "data": {
      "text/plain": [
       "[(1, '\"TRACTION POWER SYSTEMS, INC.\"'),\n",
       " (2, '\"A DAY TO REMEMBER\", LLC'),\n",
       " (3, '\" MALCO INC. -A NEVADA CORP.'),\n",
       " (4, \".BISHOP'S GATE RESIDENTIAL MORTGAGE TRUST\"),\n",
       " (5, '\"J.CRESCI FARMS, L.L.C.\"'),\n",
       " (6, '1 MAN ARMY GOURMET FOODS LLC'),\n",
       " (7, '10-Code, LLC'),\n",
       " (8, \"'Dat Hit Da Spot' LLC\"),\n",
       " (9, '\" LESLIE A. FEAST CONSTRUCTION COMPANY, INC.\"'),\n",
       " (10, '\"R\" ROCKY RANCH, INC.')]"
      ]
     },
     "execution_count": 72,
     "metadata": {},
     "output_type": "execute_result"
    }
   ],
   "source": [
    "# select subset for testing\n",
    "firm_web_search_results = firm_web_search_results[:10]\n",
    "firm_web_search_results"
   ]
  },
  {
   "cell_type": "code",
   "execution_count": 73,
   "metadata": {},
   "outputs": [
    {
     "name": "stdout",
     "output_type": "stream",
     "text": [
      "Found row for firm,  \"TRACTION POWER SYSTEMS, INC.\"\n",
      "Response for \"TRACTION POWER SYSTEMS, INC.\" - Registered_Address:  No information found\n",
      "\n",
      "Response for \"TRACTION POWER SYSTEMS, INC.\" - CEO:  No information found\n",
      "\n",
      "Response for \"TRACTION POWER SYSTEMS, INC.\" - Establishment_Year:  No information found\n",
      "\n",
      "Response for \"TRACTION POWER SYSTEMS, INC.\" - Number_Of_Employees:  No information found\n",
      "\n",
      "Response for \"TRACTION POWER SYSTEMS, INC.\" - Revenue_Size:  No information found\n",
      "\n",
      "Response for \"TRACTION POWER SYSTEMS, INC.\" - Website:  No information found\n",
      "\n",
      "Response for \"TRACTION POWER SYSTEMS, INC.\" - NAICS_Code:  No information found\n",
      "\n",
      "Response for \"TRACTION POWER SYSTEMS, INC.\" - SIC_Code:  No information found\n",
      "\n",
      "Response for \"TRACTION POWER SYSTEMS, INC.\" - Status:  No information found\n",
      "\n",
      "Inserting new firm:,  \"A DAY TO REMEMBER\", LLC\n",
      "Response for \"A DAY TO REMEMBER\", LLC - Registered_Address:  88 Lowell Street, Methuen, Massachusetts, USA, 01844\n",
      "\n",
      "Response for \"A DAY TO REMEMBER\", LLC - CEO:  No information found\n",
      "\n",
      "\n",
      "\n",
      "Response for \"A DAY TO REMEMBER\", LLC - Establishment_Year:  2004\n",
      "\n",
      "Response for \"A DAY TO REMEMBER\", LLC - Number_Of_Employees:  1-10\n",
      "\n",
      "\n",
      "\n",
      "Response for \"A DAY TO REMEMBER\", LLC - Revenue_Size:  $1M-$10M\n",
      "\n",
      "\n",
      "\n",
      "Response for \"A DAY TO REMEMBER\", LLC - Website:  adtr.com\n",
      "\n",
      "Response for \"A DAY TO REMEMBER\", LLC - NAICS_Code:  711130\n",
      "\n",
      "Response for \"A DAY TO REMEMBER\", LLC - SIC_Code:  711510\n",
      "\n",
      "Response for \"A DAY TO REMEMBER\", LLC - Status:  Active\n",
      "\n",
      "Inserting new firm:,  \" MALCO INC. -A NEVADA CORP.\n",
      "Response for \" MALCO INC. -A NEVADA CORP. - Registered_Address:  No information found\n",
      "\n",
      "\n",
      "\n",
      "Response for \" MALCO INC. -A NEVADA CORP. - CEO:  No information found\n",
      "\n",
      "\n",
      "\n",
      "Response for \" MALCO INC. -A NEVADA CORP. - Establishment_Year:  No information found\n",
      "\n",
      "\n",
      "\n",
      "\n",
      "\n",
      "Response for \" MALCO INC. -A NEVADA CORP. - Number_Of_Employees:  1-10\n",
      "\n",
      "\n",
      "\n",
      "Response for \" MALCO INC. -A NEVADA CORP. - Revenue_Size:  $10M-$100M\n",
      "\n",
      "\n",
      "\n",
      "Response for \" MALCO INC. -A NEVADA CORP. - Website:  budgetlasvegas.com\n",
      "\n",
      "Response for \" MALCO INC. -A NEVADA CORP. - NAICS_Code:  332211\n",
      "\n",
      "\n",
      "\n",
      "Response for \" MALCO INC. -A NEVADA CORP. - SIC_Code:  3466\n",
      "\n",
      "\n",
      "\n",
      "Response for \" MALCO INC. -A NEVADA CORP. - Status:  Active\n",
      "\n",
      "Inserting new firm:,  .BISHOP'S GATE RESIDENTIAL MORTGAGE TRUST\n",
      "Response for .BISHOP'S GATE RESIDENTIAL MORTGAGE TRUST - Registered_Address:  330 Madison Avenue, New York, New York, USA, 10017\n",
      "\n",
      "Response for .BISHOP'S GATE RESIDENTIAL MORTGAGE TRUST - CEO:  No information found\n",
      "\n",
      "\n",
      "\n",
      "Response for .BISHOP'S GATE RESIDENTIAL MORTGAGE TRUST - Establishment_Year:  2001\n",
      "\n",
      "Response for .BISHOP'S GATE RESIDENTIAL MORTGAGE TRUST - Number_Of_Employees:  10-100\n",
      "\n",
      "\n",
      "\n",
      "Response for .BISHOP'S GATE RESIDENTIAL MORTGAGE TRUST - Revenue_Size:  $100M-$1B\n",
      "\n",
      "\n",
      "\n",
      "Response for .BISHOP'S GATE RESIDENTIAL MORTGAGE TRUST - Website:  www.phh.com\n",
      "\n",
      "Response for .BISHOP'S GATE RESIDENTIAL MORTGAGE TRUST - NAICS_Code:  522291\n",
      "\n",
      "\n",
      "\n",
      "Response for .BISHOP'S GATE RESIDENTIAL MORTGAGE TRUST - SIC_Code:  621100\n",
      "\n",
      "Response for .BISHOP'S GATE RESIDENTIAL MORTGAGE TRUST - Status:  Dissolved\n",
      "\n",
      "Inserting new firm:,  \"J.CRESCI FARMS, L.L.C.\"\n",
      "Response for \"J.CRESCI FARMS, L.L.C.\" - Registered_Address:  4681 E Landis Ave, Vineland, New Jersey, USA, 08360\n",
      "\n",
      "Response for \"J.CRESCI FARMS, L.L.C.\" - CEO:  No information found\n",
      "\n",
      "\n",
      "\n",
      "Response for \"J.CRESCI FARMS, L.L.C.\" - Establishment_Year:  1997\n",
      "\n",
      "\n",
      "\n"
     ]
    },
    {
     "ename": "KeyboardInterrupt",
     "evalue": "",
     "output_type": "error",
     "traceback": [
      "\u001b[0;31m---------------------------------------------------------------------------\u001b[0m",
      "\u001b[0;31mKeyboardInterrupt\u001b[0m                         Traceback (most recent call last)",
      "Cell \u001b[0;32mIn[73], line 39\u001b[0m\n\u001b[1;32m     37\u001b[0m \u001b[38;5;28;01mwhile\u001b[39;00m \u001b[38;5;129;01mnot\u001b[39;00m success \u001b[38;5;129;01mand\u001b[39;00m failure_counter \u001b[38;5;241m<\u001b[39m \u001b[38;5;241m3\u001b[39m:\n\u001b[1;32m     38\u001b[0m     \u001b[38;5;28;01mtry\u001b[39;00m:\n\u001b[0;32m---> 39\u001b[0m         response \u001b[38;5;241m=\u001b[39m chat_session\u001b[38;5;241m.\u001b[39msend_message(prompt,tools\u001b[38;5;241m=\u001b[39m\u001b[38;5;124m'\u001b[39m\u001b[38;5;124mgoogle_search_retrieval\u001b[39m\u001b[38;5;124m'\u001b[39m)\u001b[38;5;241m.\u001b[39mtext\n\u001b[1;32m     40\u001b[0m         \u001b[38;5;66;03m# print(\"Success for \", firm_name, field)\u001b[39;00m\n\u001b[1;32m     41\u001b[0m         success \u001b[38;5;241m=\u001b[39m \u001b[38;5;28;01mTrue\u001b[39;00m\n",
      "File \u001b[0;32m~/miniconda3/envs/equifax_practicum/lib/python3.12/site-packages/google/generativeai/generative_models.py:578\u001b[0m, in \u001b[0;36mChatSession.send_message\u001b[0;34m(self, content, generation_config, safety_settings, stream, tools, tool_config, request_options)\u001b[0m\n\u001b[1;32m    573\u001b[0m \u001b[38;5;28;01mif\u001b[39;00m generation_config\u001b[38;5;241m.\u001b[39mget(\u001b[38;5;124m\"\u001b[39m\u001b[38;5;124mcandidate_count\u001b[39m\u001b[38;5;124m\"\u001b[39m, \u001b[38;5;241m1\u001b[39m) \u001b[38;5;241m>\u001b[39m \u001b[38;5;241m1\u001b[39m:\n\u001b[1;32m    574\u001b[0m     \u001b[38;5;28;01mraise\u001b[39;00m \u001b[38;5;167;01mValueError\u001b[39;00m(\n\u001b[1;32m    575\u001b[0m         \u001b[38;5;124m\"\u001b[39m\u001b[38;5;124mInvalid configuration: The chat functionality does not support `candidate_count` greater than 1.\u001b[39m\u001b[38;5;124m\"\u001b[39m\n\u001b[1;32m    576\u001b[0m     )\n\u001b[0;32m--> 578\u001b[0m response \u001b[38;5;241m=\u001b[39m \u001b[38;5;28mself\u001b[39m\u001b[38;5;241m.\u001b[39mmodel\u001b[38;5;241m.\u001b[39mgenerate_content(\n\u001b[1;32m    579\u001b[0m     contents\u001b[38;5;241m=\u001b[39mhistory,\n\u001b[1;32m    580\u001b[0m     generation_config\u001b[38;5;241m=\u001b[39mgeneration_config,\n\u001b[1;32m    581\u001b[0m     safety_settings\u001b[38;5;241m=\u001b[39msafety_settings,\n\u001b[1;32m    582\u001b[0m     stream\u001b[38;5;241m=\u001b[39mstream,\n\u001b[1;32m    583\u001b[0m     tools\u001b[38;5;241m=\u001b[39mtools_lib,\n\u001b[1;32m    584\u001b[0m     tool_config\u001b[38;5;241m=\u001b[39mtool_config,\n\u001b[1;32m    585\u001b[0m     request_options\u001b[38;5;241m=\u001b[39mrequest_options,\n\u001b[1;32m    586\u001b[0m )\n\u001b[1;32m    588\u001b[0m \u001b[38;5;28mself\u001b[39m\u001b[38;5;241m.\u001b[39m_check_response(response\u001b[38;5;241m=\u001b[39mresponse, stream\u001b[38;5;241m=\u001b[39mstream)\n\u001b[1;32m    590\u001b[0m \u001b[38;5;28;01mif\u001b[39;00m \u001b[38;5;28mself\u001b[39m\u001b[38;5;241m.\u001b[39menable_automatic_function_calling \u001b[38;5;129;01mand\u001b[39;00m tools_lib \u001b[38;5;129;01mis\u001b[39;00m \u001b[38;5;129;01mnot\u001b[39;00m \u001b[38;5;28;01mNone\u001b[39;00m:\n",
      "File \u001b[0;32m~/miniconda3/envs/equifax_practicum/lib/python3.12/site-packages/google/generativeai/generative_models.py:331\u001b[0m, in \u001b[0;36mGenerativeModel.generate_content\u001b[0;34m(self, contents, generation_config, safety_settings, stream, tools, tool_config, request_options)\u001b[0m\n\u001b[1;32m    329\u001b[0m         \u001b[38;5;28;01mreturn\u001b[39;00m generation_types\u001b[38;5;241m.\u001b[39mGenerateContentResponse\u001b[38;5;241m.\u001b[39mfrom_iterator(iterator)\n\u001b[1;32m    330\u001b[0m     \u001b[38;5;28;01melse\u001b[39;00m:\n\u001b[0;32m--> 331\u001b[0m         response \u001b[38;5;241m=\u001b[39m \u001b[38;5;28mself\u001b[39m\u001b[38;5;241m.\u001b[39m_client\u001b[38;5;241m.\u001b[39mgenerate_content(\n\u001b[1;32m    332\u001b[0m             request,\n\u001b[1;32m    333\u001b[0m             \u001b[38;5;241m*\u001b[39m\u001b[38;5;241m*\u001b[39mrequest_options,\n\u001b[1;32m    334\u001b[0m         )\n\u001b[1;32m    335\u001b[0m         \u001b[38;5;28;01mreturn\u001b[39;00m generation_types\u001b[38;5;241m.\u001b[39mGenerateContentResponse\u001b[38;5;241m.\u001b[39mfrom_response(response)\n\u001b[1;32m    336\u001b[0m \u001b[38;5;28;01mexcept\u001b[39;00m google\u001b[38;5;241m.\u001b[39mapi_core\u001b[38;5;241m.\u001b[39mexceptions\u001b[38;5;241m.\u001b[39mInvalidArgument \u001b[38;5;28;01mas\u001b[39;00m e:\n",
      "File \u001b[0;32m~/miniconda3/envs/equifax_practicum/lib/python3.12/site-packages/google/ai/generativelanguage_v1beta/services/generative_service/client.py:830\u001b[0m, in \u001b[0;36mGenerativeServiceClient.generate_content\u001b[0;34m(self, request, model, contents, retry, timeout, metadata)\u001b[0m\n\u001b[1;32m    827\u001b[0m \u001b[38;5;28mself\u001b[39m\u001b[38;5;241m.\u001b[39m_validate_universe_domain()\n\u001b[1;32m    829\u001b[0m \u001b[38;5;66;03m# Send the request.\u001b[39;00m\n\u001b[0;32m--> 830\u001b[0m response \u001b[38;5;241m=\u001b[39m rpc(\n\u001b[1;32m    831\u001b[0m     request,\n\u001b[1;32m    832\u001b[0m     retry\u001b[38;5;241m=\u001b[39mretry,\n\u001b[1;32m    833\u001b[0m     timeout\u001b[38;5;241m=\u001b[39mtimeout,\n\u001b[1;32m    834\u001b[0m     metadata\u001b[38;5;241m=\u001b[39mmetadata,\n\u001b[1;32m    835\u001b[0m )\n\u001b[1;32m    837\u001b[0m \u001b[38;5;66;03m# Done; return the response.\u001b[39;00m\n\u001b[1;32m    838\u001b[0m \u001b[38;5;28;01mreturn\u001b[39;00m response\n",
      "File \u001b[0;32m~/miniconda3/envs/equifax_practicum/lib/python3.12/site-packages/google/api_core/gapic_v1/method.py:131\u001b[0m, in \u001b[0;36m_GapicCallable.__call__\u001b[0;34m(self, timeout, retry, compression, *args, **kwargs)\u001b[0m\n\u001b[1;32m    128\u001b[0m \u001b[38;5;28;01mif\u001b[39;00m \u001b[38;5;28mself\u001b[39m\u001b[38;5;241m.\u001b[39m_compression \u001b[38;5;129;01mis\u001b[39;00m \u001b[38;5;129;01mnot\u001b[39;00m \u001b[38;5;28;01mNone\u001b[39;00m:\n\u001b[1;32m    129\u001b[0m     kwargs[\u001b[38;5;124m\"\u001b[39m\u001b[38;5;124mcompression\u001b[39m\u001b[38;5;124m\"\u001b[39m] \u001b[38;5;241m=\u001b[39m compression\n\u001b[0;32m--> 131\u001b[0m \u001b[38;5;28;01mreturn\u001b[39;00m wrapped_func(\u001b[38;5;241m*\u001b[39margs, \u001b[38;5;241m*\u001b[39m\u001b[38;5;241m*\u001b[39mkwargs)\n",
      "File \u001b[0;32m~/miniconda3/envs/equifax_practicum/lib/python3.12/site-packages/google/api_core/retry/retry_unary.py:293\u001b[0m, in \u001b[0;36mRetry.__call__.<locals>.retry_wrapped_func\u001b[0;34m(*args, **kwargs)\u001b[0m\n\u001b[1;32m    289\u001b[0m target \u001b[38;5;241m=\u001b[39m functools\u001b[38;5;241m.\u001b[39mpartial(func, \u001b[38;5;241m*\u001b[39margs, \u001b[38;5;241m*\u001b[39m\u001b[38;5;241m*\u001b[39mkwargs)\n\u001b[1;32m    290\u001b[0m sleep_generator \u001b[38;5;241m=\u001b[39m exponential_sleep_generator(\n\u001b[1;32m    291\u001b[0m     \u001b[38;5;28mself\u001b[39m\u001b[38;5;241m.\u001b[39m_initial, \u001b[38;5;28mself\u001b[39m\u001b[38;5;241m.\u001b[39m_maximum, multiplier\u001b[38;5;241m=\u001b[39m\u001b[38;5;28mself\u001b[39m\u001b[38;5;241m.\u001b[39m_multiplier\n\u001b[1;32m    292\u001b[0m )\n\u001b[0;32m--> 293\u001b[0m \u001b[38;5;28;01mreturn\u001b[39;00m retry_target(\n\u001b[1;32m    294\u001b[0m     target,\n\u001b[1;32m    295\u001b[0m     \u001b[38;5;28mself\u001b[39m\u001b[38;5;241m.\u001b[39m_predicate,\n\u001b[1;32m    296\u001b[0m     sleep_generator,\n\u001b[1;32m    297\u001b[0m     timeout\u001b[38;5;241m=\u001b[39m\u001b[38;5;28mself\u001b[39m\u001b[38;5;241m.\u001b[39m_timeout,\n\u001b[1;32m    298\u001b[0m     on_error\u001b[38;5;241m=\u001b[39mon_error,\n\u001b[1;32m    299\u001b[0m )\n",
      "File \u001b[0;32m~/miniconda3/envs/equifax_practicum/lib/python3.12/site-packages/google/api_core/retry/retry_unary.py:144\u001b[0m, in \u001b[0;36mretry_target\u001b[0;34m(target, predicate, sleep_generator, timeout, on_error, exception_factory, **kwargs)\u001b[0m\n\u001b[1;32m    142\u001b[0m \u001b[38;5;28;01mfor\u001b[39;00m sleep \u001b[38;5;129;01min\u001b[39;00m sleep_generator:\n\u001b[1;32m    143\u001b[0m     \u001b[38;5;28;01mtry\u001b[39;00m:\n\u001b[0;32m--> 144\u001b[0m         result \u001b[38;5;241m=\u001b[39m target()\n\u001b[1;32m    145\u001b[0m         \u001b[38;5;28;01mif\u001b[39;00m inspect\u001b[38;5;241m.\u001b[39misawaitable(result):\n\u001b[1;32m    146\u001b[0m             warnings\u001b[38;5;241m.\u001b[39mwarn(_ASYNC_RETRY_WARNING)\n",
      "File \u001b[0;32m~/miniconda3/envs/equifax_practicum/lib/python3.12/site-packages/google/api_core/timeout.py:120\u001b[0m, in \u001b[0;36mTimeToDeadlineTimeout.__call__.<locals>.func_with_timeout\u001b[0;34m(*args, **kwargs)\u001b[0m\n\u001b[1;32m    117\u001b[0m     \u001b[38;5;66;03m# Avoid setting negative timeout\u001b[39;00m\n\u001b[1;32m    118\u001b[0m     kwargs[\u001b[38;5;124m\"\u001b[39m\u001b[38;5;124mtimeout\u001b[39m\u001b[38;5;124m\"\u001b[39m] \u001b[38;5;241m=\u001b[39m \u001b[38;5;28mmax\u001b[39m(\u001b[38;5;241m0\u001b[39m, \u001b[38;5;28mself\u001b[39m\u001b[38;5;241m.\u001b[39m_timeout \u001b[38;5;241m-\u001b[39m time_since_first_attempt)\n\u001b[0;32m--> 120\u001b[0m \u001b[38;5;28;01mreturn\u001b[39;00m func(\u001b[38;5;241m*\u001b[39margs, \u001b[38;5;241m*\u001b[39m\u001b[38;5;241m*\u001b[39mkwargs)\n",
      "File \u001b[0;32m~/miniconda3/envs/equifax_practicum/lib/python3.12/site-packages/google/api_core/grpc_helpers.py:76\u001b[0m, in \u001b[0;36m_wrap_unary_errors.<locals>.error_remapped_callable\u001b[0;34m(*args, **kwargs)\u001b[0m\n\u001b[1;32m     73\u001b[0m \u001b[38;5;129m@functools\u001b[39m\u001b[38;5;241m.\u001b[39mwraps(callable_)\n\u001b[1;32m     74\u001b[0m \u001b[38;5;28;01mdef\u001b[39;00m \u001b[38;5;21merror_remapped_callable\u001b[39m(\u001b[38;5;241m*\u001b[39margs, \u001b[38;5;241m*\u001b[39m\u001b[38;5;241m*\u001b[39mkwargs):\n\u001b[1;32m     75\u001b[0m     \u001b[38;5;28;01mtry\u001b[39;00m:\n\u001b[0;32m---> 76\u001b[0m         \u001b[38;5;28;01mreturn\u001b[39;00m callable_(\u001b[38;5;241m*\u001b[39margs, \u001b[38;5;241m*\u001b[39m\u001b[38;5;241m*\u001b[39mkwargs)\n\u001b[1;32m     77\u001b[0m     \u001b[38;5;28;01mexcept\u001b[39;00m grpc\u001b[38;5;241m.\u001b[39mRpcError \u001b[38;5;28;01mas\u001b[39;00m exc:\n\u001b[1;32m     78\u001b[0m         \u001b[38;5;28;01mraise\u001b[39;00m exceptions\u001b[38;5;241m.\u001b[39mfrom_grpc_error(exc) \u001b[38;5;28;01mfrom\u001b[39;00m \u001b[38;5;21;01mexc\u001b[39;00m\n",
      "File \u001b[0;32m~/miniconda3/envs/equifax_practicum/lib/python3.12/site-packages/grpc/_channel.py:1178\u001b[0m, in \u001b[0;36m_UnaryUnaryMultiCallable.__call__\u001b[0;34m(self, request, timeout, metadata, credentials, wait_for_ready, compression)\u001b[0m\n\u001b[1;32m   1166\u001b[0m \u001b[38;5;28;01mdef\u001b[39;00m \u001b[38;5;21m__call__\u001b[39m(\n\u001b[1;32m   1167\u001b[0m     \u001b[38;5;28mself\u001b[39m,\n\u001b[1;32m   1168\u001b[0m     request: Any,\n\u001b[0;32m   (...)\u001b[0m\n\u001b[1;32m   1173\u001b[0m     compression: Optional[grpc\u001b[38;5;241m.\u001b[39mCompression] \u001b[38;5;241m=\u001b[39m \u001b[38;5;28;01mNone\u001b[39;00m,\n\u001b[1;32m   1174\u001b[0m ) \u001b[38;5;241m-\u001b[39m\u001b[38;5;241m>\u001b[39m Any:\n\u001b[1;32m   1175\u001b[0m     (\n\u001b[1;32m   1176\u001b[0m         state,\n\u001b[1;32m   1177\u001b[0m         call,\n\u001b[0;32m-> 1178\u001b[0m     ) \u001b[38;5;241m=\u001b[39m \u001b[38;5;28mself\u001b[39m\u001b[38;5;241m.\u001b[39m_blocking(\n\u001b[1;32m   1179\u001b[0m         request, timeout, metadata, credentials, wait_for_ready, compression\n\u001b[1;32m   1180\u001b[0m     )\n\u001b[1;32m   1181\u001b[0m     \u001b[38;5;28;01mreturn\u001b[39;00m _end_unary_response_blocking(state, call, \u001b[38;5;28;01mFalse\u001b[39;00m, \u001b[38;5;28;01mNone\u001b[39;00m)\n",
      "File \u001b[0;32m~/miniconda3/envs/equifax_practicum/lib/python3.12/site-packages/grpc/_channel.py:1162\u001b[0m, in \u001b[0;36m_UnaryUnaryMultiCallable._blocking\u001b[0;34m(self, request, timeout, metadata, credentials, wait_for_ready, compression)\u001b[0m\n\u001b[1;32m   1145\u001b[0m state\u001b[38;5;241m.\u001b[39mtarget \u001b[38;5;241m=\u001b[39m _common\u001b[38;5;241m.\u001b[39mdecode(\u001b[38;5;28mself\u001b[39m\u001b[38;5;241m.\u001b[39m_target)\n\u001b[1;32m   1146\u001b[0m call \u001b[38;5;241m=\u001b[39m \u001b[38;5;28mself\u001b[39m\u001b[38;5;241m.\u001b[39m_channel\u001b[38;5;241m.\u001b[39msegregated_call(\n\u001b[1;32m   1147\u001b[0m     cygrpc\u001b[38;5;241m.\u001b[39mPropagationConstants\u001b[38;5;241m.\u001b[39mGRPC_PROPAGATE_DEFAULTS,\n\u001b[1;32m   1148\u001b[0m     \u001b[38;5;28mself\u001b[39m\u001b[38;5;241m.\u001b[39m_method,\n\u001b[0;32m   (...)\u001b[0m\n\u001b[1;32m   1160\u001b[0m     \u001b[38;5;28mself\u001b[39m\u001b[38;5;241m.\u001b[39m_registered_call_handle,\n\u001b[1;32m   1161\u001b[0m )\n\u001b[0;32m-> 1162\u001b[0m event \u001b[38;5;241m=\u001b[39m call\u001b[38;5;241m.\u001b[39mnext_event()\n\u001b[1;32m   1163\u001b[0m _handle_event(event, state, \u001b[38;5;28mself\u001b[39m\u001b[38;5;241m.\u001b[39m_response_deserializer)\n\u001b[1;32m   1164\u001b[0m \u001b[38;5;28;01mreturn\u001b[39;00m state, call\n",
      "File \u001b[0;32msrc/python/grpcio/grpc/_cython/_cygrpc/channel.pyx.pxi:388\u001b[0m, in \u001b[0;36mgrpc._cython.cygrpc.SegregatedCall.next_event\u001b[0;34m()\u001b[0m\n",
      "File \u001b[0;32msrc/python/grpcio/grpc/_cython/_cygrpc/channel.pyx.pxi:211\u001b[0m, in \u001b[0;36mgrpc._cython.cygrpc._next_call_event\u001b[0;34m()\u001b[0m\n",
      "File \u001b[0;32msrc/python/grpcio/grpc/_cython/_cygrpc/channel.pyx.pxi:205\u001b[0m, in \u001b[0;36mgrpc._cython.cygrpc._next_call_event\u001b[0;34m()\u001b[0m\n",
      "File \u001b[0;32msrc/python/grpcio/grpc/_cython/_cygrpc/completion_queue.pyx.pxi:78\u001b[0m, in \u001b[0;36mgrpc._cython.cygrpc._latent_event\u001b[0;34m()\u001b[0m\n",
      "File \u001b[0;32msrc/python/grpcio/grpc/_cython/_cygrpc/completion_queue.pyx.pxi:61\u001b[0m, in \u001b[0;36mgrpc._cython.cygrpc._internal_latent_event\u001b[0;34m()\u001b[0m\n",
      "File \u001b[0;32msrc/python/grpcio/grpc/_cython/_cygrpc/completion_queue.pyx.pxi:42\u001b[0m, in \u001b[0;36mgrpc._cython.cygrpc._next\u001b[0;34m()\u001b[0m\n",
      "\u001b[0;31mKeyboardInterrupt\u001b[0m: "
     ]
    }
   ],
   "source": [
    "for web_search_result in firm_web_search_results:\n",
    "    firm_id = web_search_result[0]\n",
    "    firm_name = web_search_result[1]\n",
    "\n",
    "    # Check if firm already exists, insert row if it doesnt\n",
    "    cursor.execute(f\"SELECT id FROM {table_name} WHERE id = ? AND Firm_Name = ?\", (firm_id, firm_name,))\n",
    "    firm_row = cursor.fetchone()\n",
    "    if firm_row is None:\n",
    "        print(\"Inserting new firm:, \", firm_name)\n",
    "        cursor.execute(f\"INSERT INTO {table_name} (Firm_Name) VALUES (?)\", (firm_name,))\n",
    "        firm_id = cursor.lastrowid  \n",
    "    else:\n",
    "        # Get the existing firm's id\n",
    "        print(\"Found row for firm, \", firm_name)\n",
    "        firm_id = firm_row[0]\n",
    "    \n",
    "\n",
    "    # Fill in each field\n",
    "    for field in fields:\n",
    "        # Check if the field value in the target database is NULL\n",
    "        cursor.execute(f\"SELECT {field} FROM {table_name} WHERE id = ? AND Firm_Name = ? AND {field} IS NOT NULL\", (firm_id,firm_name,))\n",
    "        if cursor.fetchone() is not None:\n",
    "            print(f\"Field '{field}' already has data for firm '{firm_name}', skipping.\")\n",
    "            continue\n",
    "      \n",
    "\n",
    "        # Query Gemini\n",
    "        # Update queries with firm name\n",
    "        updated_queries = {key: value.format(firm_name=firm_name) for key, value in field_to_query.items()}\n",
    "        # pass promot ot gemini\n",
    "        prompt = form_prompt(updated_queries[field])\n",
    "\n",
    "\n",
    "        # Send the prompt to model, try 3 times to get a response\n",
    "        success = False\n",
    "        failure_counter = 0\n",
    "        while not success and failure_counter < 3:\n",
    "            try:\n",
    "                response = chat_session.send_message(prompt,tools='google_search_retrieval').text\n",
    "                # print(\"Success for \", firm_name, field)\n",
    "                success = True\n",
    "            except Exception as e:\n",
    "                print(\"Exception occured: \", e)\n",
    "                time.sleep(1) \n",
    "                failure_counter += 1\n",
    "                \n",
    "        print(f\"Response for {firm_name} - {field}: \", response)\n",
    "        # Update database\n",
    "        cursor.execute(f\"INSERT INTO {table_name} (Firm_Name, {field}) VALUES (?, ?)\", (firm_name, response))\n",
    "        conn.commit()"
   ]
  },
  {
   "cell_type": "markdown",
   "metadata": {},
   "source": [
    "Versioning Notes\n",
    "- table_name = firm_properties_gemini_with_grounding\n",
    "        - prompt only includes field_to_query_v0\n",
    "- table_name = firm_properties_gemini_with_grounding_v2\n",
    "        - prompt also includes answer_format_v1\n",
    "- "
   ]
  },
  {
   "cell_type": "markdown",
   "metadata": {},
   "source": [
    "field_to_query_v0 = {\n",
    "        \"Registered_Address\": \"Tell me the Registered Adress for the firm named {firm_name}. Your answer should consist of the street address, city, state, country, and postal code.\",\n",
    "        \"CEO\": \"Tell me the name and surname of the CEO for the firm named {firm_name}. Your answer should be in the format 'Name Surname'\",\n",
    "        \"Establishment_Year\": \"Tell me the establishment year of {firm_name}. Your answer should be 4 digits in the format YYYY\",\n",
    "        \"Number_Of_Employees\": \"Tell me the estimated number of employees for the firm named {firm_name}. Your answer should be an approximate range, like 1-10, 10-100, 100-1000, 1000-10000, 10000+ etc. You can specify other ranges like 200-250 if you wish.\",\n",
    "        \"Revenue_Size\": \"Tell me the estimated annual revenue in dollars for the firm named {firm_name}. Your answer should be an approximate range, 10000-100000, 1000000-10000000, or 1000000000+ etc. You can specify other ranges like 200-250 if you wish.\",\n",
    "        \"Website\": \"Tell me the url of the official website of for the firm named {firm_name}. If you can't find a website for the firm, please write 'No website found'\",\n",
    "        \"NAICS_Code\": \"Tell me the numeric NAICS code for the firm named {firm_name}.\",\n",
    "        \"SIC_Code\":  \"Tell me the numeric SIC code for the firm named {firm_name}.\",\n",
    "        \"Status\": \"Tell me the whether the firm named {firm_name} is Active or Dissolved. Answer with one word.\",\n",
    "}\n",
    "\n",
    "answer_format_v1 = \"\"\"\n",
    "If you can't find the answer to my query please write 'No information found'. \n",
    "Do not leave the answer blank or give me a long explanation on why you couldn't find the answer or why you are unsure.\n",
    " If you find multiple possible answers return your best answer\"\"\""
   ]
  },
  {
   "cell_type": "markdown",
   "metadata": {},
   "source": []
  }
 ],
 "metadata": {
  "kernelspec": {
   "display_name": "equifax_practicum",
   "language": "python",
   "name": "python3"
  },
  "language_info": {
   "codemirror_mode": {
    "name": "ipython",
    "version": 3
   },
   "file_extension": ".py",
   "mimetype": "text/x-python",
   "name": "python",
   "nbconvert_exporter": "python",
   "pygments_lexer": "ipython3",
   "version": "3.12.7"
  }
 },
 "nbformat": 4,
 "nbformat_minor": 2
}
