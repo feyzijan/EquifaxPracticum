{
 "cells": [
  {
   "cell_type": "code",
   "execution_count": null,
   "metadata": {},
   "outputs": [],
   "source": [
    "import pandas as pd\n",
    "from dotenv import load_dotenv\n",
    "import os\n",
    "import google.generativeai as genai\n",
    "import json\n",
    "import time\n",
    "import sqlite3\n",
    "from gemini_prompts import *"
   ]
  },
  {
   "cell_type": "markdown",
   "metadata": {},
   "source": [
    "Model Config\n",
    "- You need a .env file with GEMINI_API_KEY defined"
   ]
  },
  {
   "cell_type": "code",
   "execution_count": 100,
   "metadata": {},
   "outputs": [],
   "source": [
    "load_dotenv()\n",
    "genai.configure(api_key=os.getenv(\"GEMINI_API_KEY\"))\n",
    "\n",
    "# Create the model\n",
    "generation_config = {\n",
    "  \"temperature\": 1,\n",
    "  \"top_p\": 0.95,\n",
    "  \"top_k\": 40,\n",
    "  \"max_output_tokens\": 8192,\n",
    "  \"response_mime_type\": \"text/plain\",\n",
    "}\n",
    "\n",
    "model = genai.GenerativeModel(\n",
    "  model_name=\"gemini-1.5-pro-002\",\n",
    "  generation_config=generation_config,\n",
    ")\n",
    "\n",
    "chat_session = model.start_chat(\n",
    "  history=[\n",
    "  ]\n",
    ")"
   ]
  },
  {
   "cell_type": "markdown",
   "metadata": {},
   "source": [
    "Check that it works"
   ]
  },
  {
   "cell_type": "code",
   "execution_count": 101,
   "metadata": {},
   "outputs": [
    {
     "name": "stdout",
     "output_type": "stream",
     "text": [
      "I don't have a name. I'm a large language model, an AI.\n",
      "\n"
     ]
    }
   ],
   "source": [
    "response = chat_session.send_message(\"Hello there, what is your name \")\n",
    "print(response.text)"
   ]
  },
  {
   "cell_type": "markdown",
   "metadata": {},
   "source": [
    "Function to form prompt to give gemini"
   ]
  },
  {
   "cell_type": "code",
   "execution_count": null,
   "metadata": {},
   "outputs": [],
   "source": [
    "context = context_single_answer_v1 + context_local_dataset_v1\n",
    "answer_format = answer_format_v1\n",
    "field_to_query = field_to_query_v1"
   ]
  },
  {
   "cell_type": "code",
   "execution_count": 104,
   "metadata": {},
   "outputs": [],
   "source": [
    "def form_prompt(query, local_data):\n",
    "    prompt = f\"\"\"\n",
    "\n",
    "    {context}\n",
    "    {query}\n",
    "    {answer_format_v1}\n",
    "\n",
    "    Here are the results of my search for this firm.\n",
    "    {local_data}\n",
    "    \"\"\"\n",
    "    return prompt"
   ]
  },
  {
   "cell_type": "markdown",
   "metadata": {},
   "source": [
    "### Open firm databases"
   ]
  },
  {
   "cell_type": "code",
   "execution_count": 109,
   "metadata": {},
   "outputs": [],
   "source": [
    "conn = sqlite3.connect(\"firm_database_llm.db\")\n",
    "cursor = conn.cursor()\n",
    "\n",
    "\n",
    "# Drop the table if you're starting from scratch\n",
    "# cursor.execute('''\n",
    "# DROP TABLE IF EXISTS firm_properties\n",
    "#                ''')\n",
    "\n",
    "table_name = \"firm_properties_gemini_without_grounding_local_dataset_v1\"\n",
    "# You can create different tables for different prompt types, gemini model etc, if you rename the table\n",
    "cursor.execute(f'''\n",
    "CREATE TABLE IF NOT EXISTS {table_name} (\n",
    "               id INTEGER PRIMARY KEY AUTOINCREMENT,\n",
    "               Firm_Name TEXT NOT NULL,\n",
    "               Registered_Address TEXT,\n",
    "               CEO TEXT,\n",
    "               Establishment_Year INT,\n",
    "               Number_Of_Employees INT,\n",
    "               Revenue_Size INT,\n",
    "               Website TEXT,\n",
    "               NAICS_Code INT,\n",
    "               SIC_Code INT,\n",
    "               Status TEXT,\n",
    "               Dissolvement_Year INT,\n",
    "               Company_Type TEXT,\n",
    "               Previous_Names TEXT, \n",
    "               Alternative_Names TEXT, \n",
    "               Key_Executive_Personnel TEXT\n",
    "               )\n",
    "               ''')\n",
    "\n",
    "\n",
    "web_search_table_name = \"firms_web_search_results\"\n",
    "webscraping_table_name = \"firms_web_search_website_scrapings\"\n",
    "conn_web_results = sqlite3.connect(\"firms_web_search_results.db\")\n",
    "conn_websites = sqlite3.connect(\"firms_web_search_website_scrapings.db\")\n",
    "cursor_websearch = conn_web_results.cursor()\n",
    "cursor_websites = conn_websites.cursor()"
   ]
  },
  {
   "cell_type": "code",
   "execution_count": 110,
   "metadata": {},
   "outputs": [
    {
     "name": "stdout",
     "output_type": "stream",
     "text": [
      "[('sqlite_sequence',), ('firm_properties_gemini_without_grounding_local_dataset_v1',)]\n"
     ]
    }
   ],
   "source": [
    "# Check existing tables in the database\n",
    "existing_tables = cursor.execute(\"SELECT name FROM sqlite_master WHERE type='table';\").fetchall()\n",
    "print(existing_tables)"
   ]
  },
  {
   "cell_type": "code",
   "execution_count": 111,
   "metadata": {},
   "outputs": [],
   "source": [
    "# table_to_drop = \"firm_properties_gemini_without_grounding_local_dataset_v1\"\n",
    "# cursor.execute(f\"DROP TABLE IF EXISTS {table_to_drop} \")\n",
    "# conn.commit()"
   ]
  },
  {
   "cell_type": "markdown",
   "metadata": {},
   "source": [
    "Check how many entries are here"
   ]
  },
  {
   "cell_type": "code",
   "execution_count": 112,
   "metadata": {},
   "outputs": [
    {
     "data": {
      "text/plain": [
       "[]"
      ]
     },
     "execution_count": 112,
     "metadata": {},
     "output_type": "execute_result"
    }
   ],
   "source": [
    "cursor.execute(f''' SELECT * FROM {table_name} WHERE id = 1''').fetchall()"
   ]
  },
  {
   "cell_type": "markdown",
   "metadata": {},
   "source": [
    "Check how many firms have their website scrapings"
   ]
  },
  {
   "cell_type": "code",
   "execution_count": 113,
   "metadata": {},
   "outputs": [
    {
     "data": {
      "text/plain": [
       "[(1315,)]"
      ]
     },
     "execution_count": 113,
     "metadata": {},
     "output_type": "execute_result"
    }
   ],
   "source": [
    "cursor_websites.execute(f''' SELECT COUNT(*) FROM {webscraping_table_name}''').fetchall()"
   ]
  },
  {
   "cell_type": "markdown",
   "metadata": {},
   "source": [
    "Get list of firms we'll loop through from the webscraping dataset"
   ]
  },
  {
   "cell_type": "code",
   "execution_count": 114,
   "metadata": {},
   "outputs": [],
   "source": [
    "cursor_websites.execute(f''' SELECT id, Firm_Name FROM {webscraping_table_name} ''')\n",
    "firm_list = cursor_websites.fetchall()"
   ]
  },
  {
   "cell_type": "code",
   "execution_count": 115,
   "metadata": {},
   "outputs": [],
   "source": [
    "single_query_per_field = False\n",
    "if single_query_per_field:\n",
    "    context = \" \"\n",
    "else:\n",
    "    context = context_single_answer_v1"
   ]
  },
  {
   "cell_type": "markdown",
   "metadata": {},
   "source": [
    "Single query per field"
   ]
  },
  {
   "cell_type": "code",
   "execution_count": 116,
   "metadata": {},
   "outputs": [],
   "source": [
    "if single_query_per_field:\n",
    "    # TODO: This needs a different prompt to return a single answer\n",
    "    for firm_data in firm_list:\n",
    "        firm_id = firm_data[0]\n",
    "        firm_name = firm_data[1]\n",
    "\n",
    "        # Check if firm already exists, insert row if it doesnt\n",
    "        cursor.execute(f\"SELECT id FROM {table_name} WHERE id = ? AND Firm_Name = ?\", (firm_id, firm_name,))\n",
    "        firm_row = cursor.fetchone()\n",
    "        if firm_row is None:\n",
    "            print(\"Inserting new firm:, \", firm_name)\n",
    "            cursor.execute(f\"INSERT INTO {table_name} (Firm_Name) VALUES (?)\", (firm_name,))\n",
    "            firm_id = cursor.lastrowid  \n",
    "        else:\n",
    "            # Get the existing firm's id\n",
    "            print(\"Found row for firm, \", firm_name)\n",
    "            firm_id = firm_row[0]\n",
    "        \n",
    "        # begin new chat session\n",
    "        chat_session = model.start_chat(\n",
    "            history=[\n",
    "            ]\n",
    "        )\n",
    "\n",
    "        for field in fields:\n",
    "            print(\"Debug now for \", firm_name, field)\n",
    "\n",
    "            # 1. Check if the field value in the prdiction database is NULL\n",
    "            cursor.execute(f\"SELECT {field} FROM {table_name} WHERE id = ? AND Firm_Name = ? AND {field} IS NOT NULL\", (firm_id,firm_name,))\n",
    "            if cursor.fetchone() is not None:\n",
    "                print(f\"Field '{field}' already has data for firm '{firm_name}', skipping.\")\n",
    "                continue\n",
    "        \n",
    "            # 2.1Get the web search results for the firm\n",
    "            cursor_websearch.execute(f\"SELECT {field} FROM firms_web_search_results WHERE id = ? AND Firm_Name = ?\", (firm_id, firm_name,))\n",
    "            web_search_result = cursor_websearch.fetchone()\n",
    "            if web_search_result is not None:\n",
    "                web_search_result = json.loads(web_search_result[0]) # TODO check indexing here\n",
    "            else:\n",
    "                web_search_result = \"No web search data available\"\n",
    "            \n",
    "            # 2.2 Get the website scraping results for the firm\n",
    "            cursor_websites.execute(f\"SELECT {field} FROM firms_web_search_website_scrapings WHERE id = ? AND Firm_Name = ?\", (firm_id, firm_name,))\n",
    "            website_scraping_result = cursor_websites.fetchone()\n",
    "            if website_scraping_result is not None:\n",
    "                website_scraping_result = json.loads(website_scraping_result[0])\n",
    "            else:\n",
    "                website_scraping_result = \"No website scraping data available\"\n",
    "        \n",
    "            data_to_pass_llm = {\n",
    "                f\"Results of searching the web for {firm_name}\": web_search_result,\n",
    "                f\"Scraped contents of top 5 websites for {firm_name}\": website_scraping_result\n",
    "            }\n",
    "\n",
    "            # Update queries with firm name\n",
    "            updated_queries = {key: value.format(firm_name=firm_name) for key, value in field_to_query.items()}\n",
    "\n",
    "            prompt = form_prompt(updated_queries[field], data_to_pass_llm)\n",
    "\n",
    "            print('debug: prompt is of length', len(prompt))\n",
    "            # break\n",
    "            success = False\n",
    "            try:\n",
    "                response = model.generate_content(prompt).text\n",
    "                # response = chat_session.send_message(prompt).text\n",
    "                # print(\"Success for \", firm_name, field)\n",
    "                success = True\n",
    "            except Exception as e:\n",
    "                print(\"Gemini Exception: \", e)\n",
    "                response = None\n",
    "                    \n",
    "            print(f\"Response for {firm_name} - {field}: \", response)\n",
    "            # Update database\n",
    "            cursor.execute(f\"INSERT INTO {table_name} (Firm_Name, {field}) VALUES (?, ?)\", (firm_name, response))\n",
    "            conn.commit()"
   ]
  },
  {
   "cell_type": "markdown",
   "metadata": {},
   "source": [
    "Multiple queries per field"
   ]
  },
  {
   "cell_type": "code",
   "execution_count": null,
   "metadata": {},
   "outputs": [
    {
     "name": "stdout",
     "output_type": "stream",
     "text": [
      "Debug -- now on firm id  1\n",
      "Found row for firm,  \"TRACTION POWER SYSTEMS, INC.\" 1 skipping\n",
      "All fields are filled for \"TRACTION POWER SYSTEMS, INC.\", skipping.\n",
      "Debug -- now on firm id  2\n",
      "Found row for firm,  \"A DAY TO REMEMBER\", LLC 2 skipping\n",
      "All fields are filled for \"A DAY TO REMEMBER\", LLC, skipping.\n",
      "Debug -- now on firm id  3\n",
      "Found row for firm,  \" MALCO INC. -A NEVADA CORP. 3 skipping\n",
      "Gemini Exception occured:  400 Request payload size exceeds the limit: 20971520 bytes. The file size is too large. Please use the File API to upload your files instead. Example: `f = genai.upload_file(path); m.generate_content(['tell me about this file:', f])`\n",
      "Gemini response for \" MALCO INC. -A NEVADA CORP.:  None\n",
      "Gemini failed to respond, skipping\n",
      "Debug -- now on firm id  4\n",
      "Found row for firm,  .BISHOP'S GATE RESIDENTIAL MORTGAGE TRUST 4 skipping\n",
      "All fields are filled for .BISHOP'S GATE RESIDENTIAL MORTGAGE TRUST, skipping.\n",
      "Debug -- now on firm id  5\n",
      "Found row for firm,  \"J.CRESCI FARMS, L.L.C.\" 5 skipping\n",
      "Gemini Exception occured:  400 Unable to submit request because the input token count is 6849033 but model only supports up to 2000000. Reduce the input token count and try again. You can also use the CountTokens API to calculate prompt token count and billable characters. Learn more: https://cloud.google.com/vertex-ai/generative-ai/docs/learn/models\n",
      "Gemini response for \"J.CRESCI FARMS, L.L.C.\":  None\n",
      "Gemini failed to respond, skipping\n",
      "Debug -- now on firm id  6\n",
      "Found row for firm,  1 MAN ARMY GOURMET FOODS LLC 6 skipping\n",
      "All fields are filled for 1 MAN ARMY GOURMET FOODS LLC, skipping.\n",
      "Debug -- now on firm id  7\n",
      "Found row for firm,  10-Code, LLC 7 skipping\n",
      "All fields are filled for 10-Code, LLC, skipping.\n",
      "Debug -- now on firm id  8\n",
      "Found row for firm,  'Dat Hit Da Spot' LLC 8 skipping\n",
      "Gemini response for 'Dat Hit Da Spot' LLC:  6277 Marbut Farms Trl, Lithonia, GA 30058, USA*-*No information found*-*2023*-*1-10*-*No information found*-*No website found*-*No information found*-*No information found*-*Active*-*N/A*-*LLC*-*N/A*-*N/A*-*Tyisha Cropp, Registered Agent\n",
      "\n",
      "14\n",
      "Gemini response for 'Dat Hit Da Spot' LLC - Registered_Address:  6277 Marbut Farms Trl, Lithonia, GA 30058, USA\n",
      "Gemini response for 'Dat Hit Da Spot' LLC - CEO:  No information found\n",
      "Gemini response for 'Dat Hit Da Spot' LLC - Establishment_Year:  2023\n",
      "Gemini response for 'Dat Hit Da Spot' LLC - Number_Of_Employees:  1-10\n",
      "Gemini response for 'Dat Hit Da Spot' LLC - Revenue_Size:  No information found\n",
      "Gemini response for 'Dat Hit Da Spot' LLC - Website:  No website found\n",
      "Gemini response for 'Dat Hit Da Spot' LLC - NAICS_Code:  No information found\n",
      "Gemini response for 'Dat Hit Da Spot' LLC - SIC_Code:  No information found\n",
      "Gemini response for 'Dat Hit Da Spot' LLC - Status:  Active\n",
      "Gemini response for 'Dat Hit Da Spot' LLC - Dissolvement_Year:  N/A\n",
      "Gemini response for 'Dat Hit Da Spot' LLC - Company_Type:  LLC\n",
      "Gemini response for 'Dat Hit Da Spot' LLC - Previous_Names:  N/A\n",
      "Gemini response for 'Dat Hit Da Spot' LLC - Alternative_Names:  N/A\n",
      "Gemini response for 'Dat Hit Da Spot' LLC - Key_Executive_Personnel:  Tyisha Cropp, Registered Agent\n",
      "\n",
      "Debug -- now on firm id  9\n",
      "Found row for firm,  \" LESLIE A. FEAST CONSTRUCTION COMPANY, INC.\" 9 skipping\n",
      "Gemini Exception occured:  429 Resource has been exhausted (e.g. check quota).\n",
      "Gemini response for \" LESLIE A. FEAST CONSTRUCTION COMPANY, INC.\":  None\n",
      "Gemini failed to respond, skipping\n",
      "Debug -- now on firm id  10\n",
      "Inserting new firm:,  \"R\" ROCKY RANCH, INC.\n",
      "Gemini Exception occured:  429 Resource has been exhausted (e.g. check quota).\n",
      "Gemini response for \"R\" ROCKY RANCH, INC.:  None\n",
      "Gemini failed to respond, skipping\n"
     ]
    }
   ],
   "source": [
    "if not single_query_per_field:\n",
    "    for firm_data in firm_list[:10]:\n",
    "        firm_id = firm_data[0]\n",
    "        firm_name = firm_data[1]\n",
    "\n",
    "        # Check if firm already exists, insert row if it doesnt\n",
    "        print(\"Debug -- now on firm id \", firm_id)\n",
    "\n",
    "        cursor.execute(f\"SELECT id FROM {table_name} WHERE id = ? AND Firm_Name = ?\", (firm_id, firm_name,))\n",
    "        firm_row = cursor.fetchone()\n",
    "        if firm_row is None:\n",
    "            print(\"Inserting new firm:, \", firm_name)\n",
    "            cursor.execute(f\"INSERT INTO {table_name} (Firm_Name) VALUES (?)\", (firm_name,))\n",
    "            firm_id = cursor.lastrowid  \n",
    "        else:\n",
    "            # Get the existing firm's id\n",
    "            print(\"Found row for firm, \", firm_name , firm_id)\n",
    "            firm_id = firm_row[0]\n",
    "\n",
    "\n",
    "        # Identify if any field is missing for this firm with a single query\n",
    "        cursor.execute(f\"\"\"\n",
    "            SELECT id FROM {table_name}\n",
    "            WHERE id = ? AND Firm_Name = ? AND ({' OR '.join([f\"{field} IS NULL\" for field in fields])})\n",
    "        \"\"\", (firm_id, firm_name,))\n",
    "\n",
    "        # Check if any fields are missing\n",
    "        firm_row_with_missing_fields = cursor.fetchone()\n",
    "        if firm_row_with_missing_fields is None:\n",
    "            print(f\"All fields are filled for {firm_name}, skipping.\")\n",
    "            continue\n",
    "\n",
    "        # 2.1Get the web search results and scrapings for the firm\n",
    "\n",
    "        # 2.1Get the web search results for the firm\n",
    "        local_data_to_pass_llm = {}\n",
    "        for field in fields:\n",
    "            cursor_websearch.execute(f\"SELECT {field} FROM firms_web_search_results WHERE id = ? AND Firm_Name = ?\", (firm_id, firm_name,))\n",
    "            web_search_result = cursor_websearch.fetchone()\n",
    "            if web_search_result is not None:\n",
    "                web_search_result = json.loads(web_search_result[0]) # TODO check indexing here\n",
    "            else:\n",
    "                web_search_result = \"No web search data available\"\n",
    "            \n",
    "            # 2.2 Get the website scraping results for the firm\n",
    "            cursor_websites.execute(f\"SELECT {field} FROM firms_web_search_website_scrapings WHERE id = ? AND Firm_Name = ?\", (firm_id, firm_name,))\n",
    "            website_scraping_result = cursor_websites.fetchone()\n",
    "            if website_scraping_result is not None:\n",
    "                website_scraping_result = json.loads(website_scraping_result[0])\n",
    "            else:\n",
    "                website_scraping_result = \"No website scraping data available\"\n",
    "        \n",
    "            local_data_field = {\n",
    "                f\"Results of searching the web for {firm_name} + {field} \": web_search_result,\n",
    "                f\"Scraped contents of top 5 websites for {firm_name} + {field}\": website_scraping_result\n",
    "            }\n",
    "\n",
    "            local_data_to_pass_llm[field] = local_data_field\n",
    "\n",
    "\n",
    "        # Update queries with firm name\n",
    "        updated_queries = {key: value.format(firm_name=firm_name) for key, value in field_to_query.items()}\n",
    "\n",
    "        # Form prompt and query gemini\n",
    "        prompt = form_prompt(updated_queries, local_data_to_pass_llm)\n",
    "\n",
    "        # Send the prompt to model, try 3 times to get a response\n",
    "        response = None \n",
    "        try:\n",
    "            response = model.generate_content(prompt).text\n",
    "            # print(\"Success for \", firm_name, field)\n",
    "            success = True\n",
    "        except Exception as e:\n",
    "            print(\"Gemini Exception occured: \", e)\n",
    "\n",
    "        print(f\"Gemini response for {firm_name}: \", response)\n",
    "\n",
    "        if not response:\n",
    "            print(\"Gemini failed to respond, skipping\")\n",
    "            continue\n",
    "        answers_per_field = response.split(\"*-*\")\n",
    "        print(len(answers_per_field))\n",
    "        if len(answers_per_field) != len(fields):\n",
    "            print(\"Error: Number of answers do not match number of fields,\" , len(answers_per_field), len(fields))\n",
    "            continue\n",
    "    \n",
    "        for field, answer in zip(fields, answers_per_field):\n",
    "\n",
    "            print(f\"Gemini response for {firm_name} - {field}: \", answer)\n",
    "            \n",
    "            cursor.execute(f\"UPDATE {table_name} SET {field} = ? WHERE Firm_Name = ? AND id = ?\", (answer, firm_name, firm_id))\n",
    "            conn.commit()\n",
    "\n",
    "    cursor.close()\n",
    "    conn.close()\n",
    "    cursor_websearch.close()\n",
    "    conn_web_results.close()"
   ]
  },
  {
   "cell_type": "code",
   "execution_count": null,
   "metadata": {},
   "outputs": [],
   "source": []
  }
 ],
 "metadata": {
  "kernelspec": {
   "display_name": "equifax_practicum",
   "language": "python",
   "name": "python3"
  },
  "language_info": {
   "codemirror_mode": {
    "name": "ipython",
    "version": 3
   },
   "file_extension": ".py",
   "mimetype": "text/x-python",
   "name": "python",
   "nbconvert_exporter": "python",
   "pygments_lexer": "ipython3",
   "version": "3.12.7"
  }
 },
 "nbformat": 4,
 "nbformat_minor": 2
}
