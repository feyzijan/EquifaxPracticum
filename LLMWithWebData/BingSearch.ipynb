{
 "cells": [
  {
   "cell_type": "markdown",
   "metadata": {},
   "source": [
    "### Explanation"
   ]
  },
  {
   "cell_type": "markdown",
   "metadata": {},
   "source": [
    "- This code uses the Bing Web Search API to retrieve search results for \"Firm_Name + Field\" and stores this in a sqlite database \"firms_web_search_results.db\" in the table named \"firms_web_search_results\"."
   ]
  },
  {
   "cell_type": "markdown",
   "metadata": {},
   "source": [
    "Imports\n",
    "- You need to have a .env file with BING_SEARCH_API_KEY defined"
   ]
  },
  {
   "cell_type": "code",
   "execution_count": null,
   "metadata": {},
   "outputs": [],
   "source": [
    "import requests\n",
    "from dotenv import load_dotenv\n",
    "import os\n",
    "import pandas as pd\n",
    "import sqlite3\n",
    "import time\n",
    "import json\n",
    "import random\n",
    "from gemini_prompts import *\n",
    "load_dotenv()"
   ]
  },
  {
   "cell_type": "markdown",
   "metadata": {},
   "source": [
    "# 1. Define class object to do bing search and catch errors"
   ]
  },
  {
   "cell_type": "code",
   "execution_count": 2,
   "metadata": {},
   "outputs": [],
   "source": [
    "class BingSearchAPI():\n",
    "    counter = 0\n",
    "\n",
    "    def __init__(self) -> None:\n",
    "\n",
    "        self.verbose = True\n",
    "\n",
    "        # replace with list of keys once i run out\n",
    "        self.subscription_key = os.getenv(\"BING_SEARCH_API_KEY\")\n",
    "        self.headers = {\"Ocp-Apim-Subscription-Key\": self.subscription_key}             \n",
    "            \n",
    "        self.search_url = \"https://api.bing.microsoft.com/v7.0/search\"\n",
    "\n",
    "        self.params = {\n",
    "            \"q\": \"Insert Query here\",\n",
    "            \"count\": 20,  # Number of search results to return\n",
    "            \"offset\": 0,  # The offset for pagination\n",
    "            \"mkt\": \"en-US\",  # Region\n",
    "            \"safesearch\": \"Moderate\"  # Safe search filter\n",
    "        }\n",
    "\n",
    "        self.search_results = {}\n",
    "        self.webpages = {}\n",
    "        self.request_timeout = 10\n",
    "\n",
    "    def search(self, query: str) -> dict:\n",
    "        self.webpages = {}\n",
    "    \n",
    "        if self.verbose: print(\"Conducting bing search for : \", query)\n",
    "        \n",
    "        self.params[\"q\"] = query\n",
    "        response = requests.get(self.search_url, headers=self.headers, params=self.params, timeout=self.request_timeout)\n",
    "        self.counter +=1\n",
    "        print(\"search counter at \", self.counter)\n",
    "\n",
    "        try:\n",
    "            response.raise_for_status()\n",
    "        except requests.exceptions.HTTPError as e:\n",
    "            print(f\"Request failed: {e}\")\n",
    "            return None\n",
    "        \n",
    "        # handle api credit limit by switching to paid api key\n",
    "        if response.status_code == 403:\n",
    "            print(\"API key has reached its limit\")\n",
    "            return None\n",
    "        \n",
    "        self.search_results = response.json()\n",
    "    \n",
    "        return self.search_results"
   ]
  },
  {
   "cell_type": "markdown",
   "metadata": {},
   "source": [
    "#### Read in list of firms obtained from Opencorporates\n",
    "- Note: Ids 2028 onwards are companies exclusively founded in 2024"
   ]
  },
  {
   "cell_type": "code",
   "execution_count": 3,
   "metadata": {},
   "outputs": [],
   "source": [
    "df = pd.read_csv(\"../Opencorporates/Companies2024Only.csv\") # 2024 only companies\n",
    "firms = df[\"name\"].tolist()"
   ]
  },
  {
   "cell_type": "markdown",
   "metadata": {},
   "source": [
    "# 2. Connect to sqlite table that stores web search results\n",
    "- Note: Download the latest firms_web_search_results.db from Google drive (In the datasets folder), and update there when done"
   ]
  },
  {
   "cell_type": "code",
   "execution_count": null,
   "metadata": {},
   "outputs": [],
   "source": [
    "conn = sqlite3.connect(\"firms_web_search_results.db\")\n",
    "cursor = conn.cursor()\n",
    "\n",
    "cursor.execute('''\n",
    "CREATE TABLE IF NOT EXISTS firms_web_search_results (\n",
    "               id INTEGER PRIMARY KEY AUTOINCREMENT,\n",
    "               Firm_Name TEXT NOT NULL,\n",
    "               Registered_Address TEXT,\n",
    "               CEO TEXT,\n",
    "               Establishment_Year TEXT,\n",
    "               Number_Of_Employees TEXT,\n",
    "               Revenue_Size TEXT,\n",
    "               Website TEXT,\n",
    "               NAICS_Code TEXT,\n",
    "               SIC_Code TEXT,\n",
    "               Status TEXT\n",
    "               Dissolvement_Year TEXT,\n",
    "               Company_Type TEXT,\n",
    "               Previous_Names TEXT, \n",
    "               Alternative_Names TEXT, \n",
    "               Key_Executive_Personnel TEXT\n",
    "               )\n",
    "               ''')"
   ]
  },
  {
   "cell_type": "markdown",
   "metadata": {},
   "source": [
    "# 3. Execute Main Loop to construct the database\n",
    "- Skip over existing entries"
   ]
  },
  {
   "cell_type": "code",
   "execution_count": 5,
   "metadata": {},
   "outputs": [],
   "source": [
    "firms_sample = [\"Migros\"]"
   ]
  },
  {
   "cell_type": "markdown",
   "metadata": {},
   "source": [
    "Loop to construct the dataset"
   ]
  },
  {
   "cell_type": "code",
   "execution_count": null,
   "metadata": {},
   "outputs": [],
   "source": [
    "bing_searcher = BingSearchAPI()\n",
    "start_time = time.time()\n",
    "\n",
    "# currently overridden to use examples\n",
    "for firm_name in firms_sample:\n",
    "    print(\"----- Debug: Now on firm: \", firm_name)\n",
    "\n",
    "    # Check if firm already exists, insert row if it doesnt\n",
    "    cursor.execute(\"SELECT id FROM firms_web_search_results WHERE Firm_Name = ?\", (firm_name,))\n",
    "    firm_row = cursor.fetchone()\n",
    "    if firm_row is None:\n",
    "        print(\"Inserting new firm:, \", firm_name)\n",
    "        cursor.execute(\"INSERT INTO firms_web_search_results (Firm_Name) VALUES (?)\", (firm_name,))\n",
    "        firm_id = cursor.lastrowid \n",
    "    else:\n",
    "        # Get the existing firm's id\n",
    "        # print(\"Found row for firm, \", firm_name)\n",
    "        firm_id = firm_row[0]\n",
    "    \n",
    "    print(\"Firm ID: \", firm_id)\n",
    "\n",
    "    # Iterate through fields for the given firm\n",
    "    for field in fields:\n",
    "\n",
    "        # Check if the field value in the database is NULL\n",
    "        cursor.execute(f\"SELECT {field} FROM firms_web_search_results WHERE id = ? AND Firm_Name = ? AND {field} IS NOT NULL\", (firm_id,firm_name,))\n",
    "        if cursor.fetchone() is not None:\n",
    "            # print(f\"Field '{field}' already has data for firm '{firm_name}', skipping.\")\n",
    "            continue\n",
    "\n",
    "        query = f\"{firm_name} , {field.replace('_', ' ')}\"\n",
    "\n",
    "        # print(\"---------- Debug: Now on field: \", field)\n",
    "\n",
    "        # Get search results TODO: Handle search errors\n",
    "        search_results = bing_searcher.search(query)\n",
    "        \n",
    "        if search_results is None:\n",
    "            print(\"Search results are None\")\n",
    "            break\n",
    "\n",
    "        json_combined_data = json.dumps(search_results)\n",
    "\n",
    "        # Update cell value in database\n",
    "        cursor.execute(f\"\"\"\n",
    "                    UPDATE firms_web_search_results\n",
    "                    SET {field} = ?\n",
    "                    WHERE id = ? AND Firm_Name = ?\n",
    "                    \"\"\", (json_combined_data, firm_id, firm_name))\n",
    "        \n",
    "        conn.commit()\n"
   ]
  },
  {
   "cell_type": "markdown",
   "metadata": {},
   "source": [
    "#  Display some results for Demo purposes"
   ]
  },
  {
   "cell_type": "code",
   "execution_count": null,
   "metadata": {},
   "outputs": [],
   "source": [
    "data = cursor.execute(\"SELECT * FROM firms_web_search_results WHERE Firm_Name IN ({})\".format(\n",
    "    \",\".join([\"?\"] * len(firms_sample))\n",
    "), firms_sample).fetchall()\n",
    "data"
   ]
  },
  {
   "cell_type": "code",
   "execution_count": null,
   "metadata": {},
   "outputs": [],
   "source": [
    "data_dict = json.loads(data[0][2]) # registered address\n",
    "data_dict"
   ]
  },
  {
   "cell_type": "markdown",
   "metadata": {},
   "source": [
    "Save sample firms' names and ids to a separate csv file to continue with the demo quickly"
   ]
  },
  {
   "cell_type": "code",
   "execution_count": null,
   "metadata": {},
   "outputs": [],
   "source": [
    "data = cursor.execute(\"SELECT id, firm_name FROM firms_web_search_results WHERE Firm_Name IN ({})\".format(\n",
    "    \",\".join([\"?\"] * len(firms_sample))\n",
    "), firms_sample).fetchall()\n",
    "print(data)\n",
    "df = pd.DataFrame(data, columns=[\"id\", \"name\"])\n",
    "df.to_csv(\"firms_sample.csv\", index=False)"
   ]
  },
  {
   "cell_type": "code",
   "execution_count": 10,
   "metadata": {},
   "outputs": [],
   "source": [
    "cursor.close()\n",
    "conn.close()"
   ]
  },
  {
   "cell_type": "code",
   "execution_count": null,
   "metadata": {},
   "outputs": [],
   "source": []
  }
 ],
 "metadata": {
  "kernelspec": {
   "display_name": "equifax_practicum",
   "language": "python",
   "name": "python3"
  },
  "language_info": {
   "codemirror_mode": {
    "name": "ipython",
    "version": 3
   },
   "file_extension": ".py",
   "mimetype": "text/x-python",
   "name": "python",
   "nbconvert_exporter": "python",
   "pygments_lexer": "ipython3",
   "version": "3.12.7"
  }
 },
 "nbformat": 4,
 "nbformat_minor": 2
}
