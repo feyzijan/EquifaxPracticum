{
 "cells": [
  {
   "cell_type": "markdown",
   "metadata": {},
   "source": [
    "- This code uses the Bing Web Search API to retrieve search results for \"Firm_Name + Field\" and stores this in a sqlite database \"firms_web_search_results.db\" in the table named \"firms_web_search_results\"."
   ]
  },
  {
   "cell_type": "markdown",
   "metadata": {},
   "source": [
    "Imports\n",
    "- You need to have a .env file with BING_SEARCH_API_KEY defined"
   ]
  },
  {
   "cell_type": "code",
   "execution_count": 1,
   "metadata": {},
   "outputs": [
    {
     "data": {
      "text/plain": [
       "True"
      ]
     },
     "execution_count": 1,
     "metadata": {},
     "output_type": "execute_result"
    }
   ],
   "source": [
    "import requests\n",
    "from dotenv import load_dotenv\n",
    "import os\n",
    "import pandas as pd\n",
    "import sqlite3\n",
    "import time\n",
    "import json\n",
    "import numpy as np\n",
    "import random\n",
    "from gemini_prompts import *\n",
    "load_dotenv()"
   ]
  },
  {
   "cell_type": "markdown",
   "metadata": {},
   "source": [
    "Class object to do bing search and catch errors"
   ]
  },
  {
   "cell_type": "code",
   "execution_count": 2,
   "metadata": {},
   "outputs": [],
   "source": [
    "class BingSearchAPI():\n",
    "    counter = 0\n",
    "\n",
    "    def __init__(self) -> None:\n",
    "\n",
    "        self.verbose = True\n",
    "\n",
    "        # replace with list of keys once i run out\n",
    "        self.subscription_key = os.getenv(\"BING_SEARCH_API_KEY\")\n",
    "        self.headers = {\"Ocp-Apim-Subscription-Key\": self.subscription_key}             \n",
    "            \n",
    "        self.search_url = \"https://api.bing.microsoft.com/v7.0/search\"\n",
    "\n",
    "        self.params = {\n",
    "            \"q\": \"Insert Query here\",\n",
    "            \"count\": 20,  # Number of search results to return\n",
    "            \"offset\": 0,  # The offset for pagination\n",
    "            \"mkt\": \"en-US\",  # Region\n",
    "            \"safesearch\": \"Moderate\"  # Safe search filter\n",
    "        }\n",
    "\n",
    "        self.search_results = {}\n",
    "        self.webpages = {}\n",
    "        self.request_timeout = 10\n",
    "\n",
    "    def search(self, query: str) -> dict:\n",
    "        self.webpages = {}\n",
    "    \n",
    "        if self.verbose: print(\"Conducting bing search for : \", query)\n",
    "        \n",
    "        self.params[\"q\"] = query\n",
    "        response = requests.get(self.search_url, headers=self.headers, params=self.params, timeout=self.request_timeout)\n",
    "        self.counter +=1\n",
    "        print(\"search counter at \", self.counter)\n",
    "\n",
    "        try:\n",
    "            response.raise_for_status()\n",
    "        except requests.exceptions.HTTPError as e:\n",
    "            print(f\"Request failed: {e}\")\n",
    "            return None\n",
    "        \n",
    "        # handle api credit limit by switching to paid api key\n",
    "        if response.status_code == 403:\n",
    "            print(\"API key has reached its limit\")\n",
    "            return None\n",
    "        \n",
    "        self.search_results = response.json()\n",
    "    \n",
    "        return self.search_results"
   ]
  },
  {
   "cell_type": "markdown",
   "metadata": {},
   "source": [
    "Read in list of firms from the Operncorporates csv file \n",
    "- ids 2028 onwards are companies founded in 2024"
   ]
  },
  {
   "cell_type": "code",
   "execution_count": 3,
   "metadata": {},
   "outputs": [],
   "source": [
    "# df = pd.read_csv(\"../Opencorporates/Equifax Project Data - Sheet1.csv\")\n",
    "df = pd.read_csv(\"../Opencorporates/Companies2024Only.csv\") # 2024 only companies\n",
    "# shuffle order of rows\n",
    "firms = df[\"name\"].tolist()\n",
    "firms = firms[1000:2000]"
   ]
  },
  {
   "cell_type": "code",
   "execution_count": 4,
   "metadata": {},
   "outputs": [
    {
     "data": {
      "text/plain": [
       "array([394, 317, 263, 235, 197, 803, 953, 820, 257, 686])"
      ]
     },
     "execution_count": 4,
     "metadata": {},
     "output_type": "execute_result"
    }
   ],
   "source": [
    "np.random.choice(len(firms), 10, replace=False)"
   ]
  },
  {
   "cell_type": "code",
   "execution_count": 9,
   "metadata": {},
   "outputs": [],
   "source": [
    "# randomly select 10 firms\n",
    "firms_sample = random.sample(firms, 5)"
   ]
  },
  {
   "cell_type": "code",
   "execution_count": 10,
   "metadata": {},
   "outputs": [
    {
     "data": {
      "text/plain": [
       "['1000 Lewis Avenue, LLC',\n",
       " '110 DETAILING LLC',\n",
       " '$OLELESS LLC',\n",
       " '1 UP ELECTRIC LLC',\n",
       " '10 Key Ventures LLC']"
      ]
     },
     "execution_count": 10,
     "metadata": {},
     "output_type": "execute_result"
    }
   ],
   "source": [
    "firms_sample"
   ]
  },
  {
   "cell_type": "markdown",
   "metadata": {},
   "source": [
    "Connect to sqlite table that stores web search resultsa\n",
    "- Note: Download the latest firms_web_search_results.db from Google drive (In the datasets folder)"
   ]
  },
  {
   "cell_type": "code",
   "execution_count": 7,
   "metadata": {},
   "outputs": [
    {
     "data": {
      "text/plain": [
       "<sqlite3.Cursor at 0x116c8d1c0>"
      ]
     },
     "execution_count": 7,
     "metadata": {},
     "output_type": "execute_result"
    }
   ],
   "source": [
    "conn = sqlite3.connect(\"firms_web_search_results.db\")\n",
    "cursor = conn.cursor()\n",
    "\n",
    "cursor.execute('''\n",
    "CREATE TABLE IF NOT EXISTS firms_web_search_results (\n",
    "               id INTEGER PRIMARY KEY AUTOINCREMENT,\n",
    "               Firm_Name TEXT NOT NULL,\n",
    "               Registered_Address TEXT,\n",
    "               CEO TEXT,\n",
    "               Establishment_Year TEXT,\n",
    "               Number_Of_Employees TEXT,\n",
    "               Revenue_Size TEXT,\n",
    "               Website TEXT,\n",
    "               NAICS_Code TEXT,\n",
    "               SIC_Code TEXT,\n",
    "               Status TEXT\n",
    "               Dissolvement_Year TEXT,\n",
    "               Company_Type TEXT,\n",
    "               Previous_Names TEXT, \n",
    "               Alternative_Names TEXT, \n",
    "               Key_Executive_Personnel TEXT\n",
    "               )\n",
    "               ''')"
   ]
  },
  {
   "cell_type": "markdown",
   "metadata": {},
   "source": [
    "# Override with examples"
   ]
  },
  {
   "cell_type": "markdown",
   "metadata": {},
   "source": [
    "Loop to construct the dataset"
   ]
  },
  {
   "cell_type": "code",
   "execution_count": 11,
   "metadata": {},
   "outputs": [
    {
     "name": "stdout",
     "output_type": "stream",
     "text": [
      "----- Debug: Now on firm:  1000 Lewis Avenue, LLC\n",
      "Inserting new firm:,  1000 Lewis Avenue, LLC\n",
      "Firm ID:  2922\n",
      "Conducting bing search for :  1000 Lewis Avenue, LLC , Registered Address\n",
      "search counter at  1\n",
      "Conducting bing search for :  1000 Lewis Avenue, LLC , CEO\n",
      "search counter at  2\n",
      "Conducting bing search for :  1000 Lewis Avenue, LLC , Establishment Year\n",
      "search counter at  3\n",
      "Conducting bing search for :  1000 Lewis Avenue, LLC , Number Of Employees\n",
      "search counter at  4\n",
      "Conducting bing search for :  1000 Lewis Avenue, LLC , Revenue Size\n",
      "search counter at  5\n",
      "Conducting bing search for :  1000 Lewis Avenue, LLC , Website\n",
      "search counter at  6\n",
      "Conducting bing search for :  1000 Lewis Avenue, LLC , NAICS Code\n",
      "search counter at  7\n",
      "Conducting bing search for :  1000 Lewis Avenue, LLC , SIC Code\n",
      "search counter at  8\n",
      "Conducting bing search for :  1000 Lewis Avenue, LLC , Status\n",
      "search counter at  9\n",
      "Conducting bing search for :  1000 Lewis Avenue, LLC , Dissolvement Year\n",
      "search counter at  10\n",
      "Conducting bing search for :  1000 Lewis Avenue, LLC , Company Type\n",
      "search counter at  11\n",
      "Conducting bing search for :  1000 Lewis Avenue, LLC , Previous Names\n",
      "search counter at  12\n",
      "Conducting bing search for :  1000 Lewis Avenue, LLC , Alternative Names\n",
      "search counter at  13\n",
      "Conducting bing search for :  1000 Lewis Avenue, LLC , Key Executive Personnel\n",
      "search counter at  14\n",
      "----- Debug: Now on firm:  110 DETAILING LLC\n",
      "Inserting new firm:,  110 DETAILING LLC\n",
      "Firm ID:  2923\n",
      "Conducting bing search for :  110 DETAILING LLC , Registered Address\n",
      "search counter at  15\n",
      "Conducting bing search for :  110 DETAILING LLC , CEO\n",
      "search counter at  16\n",
      "Conducting bing search for :  110 DETAILING LLC , Establishment Year\n",
      "search counter at  17\n",
      "Conducting bing search for :  110 DETAILING LLC , Number Of Employees\n",
      "search counter at  18\n",
      "Conducting bing search for :  110 DETAILING LLC , Revenue Size\n",
      "search counter at  19\n",
      "Conducting bing search for :  110 DETAILING LLC , Website\n",
      "search counter at  20\n",
      "Conducting bing search for :  110 DETAILING LLC , NAICS Code\n",
      "search counter at  21\n",
      "Conducting bing search for :  110 DETAILING LLC , SIC Code\n",
      "search counter at  22\n",
      "Conducting bing search for :  110 DETAILING LLC , Status\n",
      "search counter at  23\n",
      "Conducting bing search for :  110 DETAILING LLC , Dissolvement Year\n",
      "search counter at  24\n",
      "Conducting bing search for :  110 DETAILING LLC , Company Type\n",
      "search counter at  25\n",
      "Conducting bing search for :  110 DETAILING LLC , Previous Names\n",
      "search counter at  26\n",
      "Conducting bing search for :  110 DETAILING LLC , Alternative Names\n",
      "search counter at  27\n",
      "Conducting bing search for :  110 DETAILING LLC , Key Executive Personnel\n",
      "search counter at  28\n",
      "----- Debug: Now on firm:  $OLELESS LLC\n",
      "Inserting new firm:,  $OLELESS LLC\n",
      "Firm ID:  2924\n",
      "Conducting bing search for :  $OLELESS LLC , Registered Address\n",
      "search counter at  29\n",
      "Conducting bing search for :  $OLELESS LLC , CEO\n",
      "search counter at  30\n",
      "Conducting bing search for :  $OLELESS LLC , Establishment Year\n",
      "search counter at  31\n",
      "Conducting bing search for :  $OLELESS LLC , Number Of Employees\n",
      "search counter at  32\n",
      "Conducting bing search for :  $OLELESS LLC , Revenue Size\n",
      "search counter at  33\n",
      "Conducting bing search for :  $OLELESS LLC , Website\n",
      "search counter at  34\n",
      "Conducting bing search for :  $OLELESS LLC , NAICS Code\n",
      "search counter at  35\n",
      "Conducting bing search for :  $OLELESS LLC , SIC Code\n",
      "search counter at  36\n",
      "Conducting bing search for :  $OLELESS LLC , Status\n",
      "search counter at  37\n",
      "Conducting bing search for :  $OLELESS LLC , Dissolvement Year\n",
      "search counter at  38\n",
      "Conducting bing search for :  $OLELESS LLC , Company Type\n",
      "search counter at  39\n",
      "Conducting bing search for :  $OLELESS LLC , Previous Names\n",
      "search counter at  40\n",
      "Conducting bing search for :  $OLELESS LLC , Alternative Names\n",
      "search counter at  41\n",
      "Conducting bing search for :  $OLELESS LLC , Key Executive Personnel\n",
      "search counter at  42\n",
      "----- Debug: Now on firm:  1 UP ELECTRIC LLC\n",
      "Inserting new firm:,  1 UP ELECTRIC LLC\n",
      "Firm ID:  2925\n",
      "Conducting bing search for :  1 UP ELECTRIC LLC , Registered Address\n",
      "search counter at  43\n",
      "Conducting bing search for :  1 UP ELECTRIC LLC , CEO\n",
      "search counter at  44\n",
      "Conducting bing search for :  1 UP ELECTRIC LLC , Establishment Year\n",
      "search counter at  45\n",
      "Conducting bing search for :  1 UP ELECTRIC LLC , Number Of Employees\n",
      "search counter at  46\n",
      "Conducting bing search for :  1 UP ELECTRIC LLC , Revenue Size\n",
      "search counter at  47\n",
      "Conducting bing search for :  1 UP ELECTRIC LLC , Website\n",
      "search counter at  48\n",
      "Conducting bing search for :  1 UP ELECTRIC LLC , NAICS Code\n",
      "search counter at  49\n",
      "Conducting bing search for :  1 UP ELECTRIC LLC , SIC Code\n",
      "search counter at  50\n",
      "Conducting bing search for :  1 UP ELECTRIC LLC , Status\n",
      "search counter at  51\n",
      "Conducting bing search for :  1 UP ELECTRIC LLC , Dissolvement Year\n",
      "search counter at  52\n",
      "Conducting bing search for :  1 UP ELECTRIC LLC , Company Type\n",
      "search counter at  53\n",
      "Conducting bing search for :  1 UP ELECTRIC LLC , Previous Names\n",
      "search counter at  54\n",
      "Conducting bing search for :  1 UP ELECTRIC LLC , Alternative Names\n",
      "search counter at  55\n",
      "Conducting bing search for :  1 UP ELECTRIC LLC , Key Executive Personnel\n",
      "search counter at  56\n",
      "----- Debug: Now on firm:  10 Key Ventures LLC\n",
      "Inserting new firm:,  10 Key Ventures LLC\n",
      "Firm ID:  2926\n",
      "Conducting bing search for :  10 Key Ventures LLC , Registered Address\n",
      "search counter at  57\n",
      "Conducting bing search for :  10 Key Ventures LLC , CEO\n",
      "search counter at  58\n",
      "Conducting bing search for :  10 Key Ventures LLC , Establishment Year\n",
      "search counter at  59\n",
      "Conducting bing search for :  10 Key Ventures LLC , Number Of Employees\n",
      "search counter at  60\n",
      "Conducting bing search for :  10 Key Ventures LLC , Revenue Size\n",
      "search counter at  61\n",
      "Conducting bing search for :  10 Key Ventures LLC , Website\n",
      "search counter at  62\n",
      "Conducting bing search for :  10 Key Ventures LLC , NAICS Code\n",
      "search counter at  63\n",
      "Conducting bing search for :  10 Key Ventures LLC , SIC Code\n",
      "search counter at  64\n",
      "Conducting bing search for :  10 Key Ventures LLC , Status\n",
      "search counter at  65\n",
      "Conducting bing search for :  10 Key Ventures LLC , Dissolvement Year\n",
      "search counter at  66\n",
      "Conducting bing search for :  10 Key Ventures LLC , Company Type\n",
      "search counter at  67\n",
      "Conducting bing search for :  10 Key Ventures LLC , Previous Names\n",
      "search counter at  68\n",
      "Conducting bing search for :  10 Key Ventures LLC , Alternative Names\n",
      "search counter at  69\n",
      "Conducting bing search for :  10 Key Ventures LLC , Key Executive Personnel\n",
      "search counter at  70\n"
     ]
    }
   ],
   "source": [
    "bing_searcher = BingSearchAPI()\n",
    "start_time = time.time()\n",
    "\n",
    "for firm_name in firms_sample:\n",
    "    print(\"----- Debug: Now on firm: \", firm_name)\n",
    "\n",
    "    # Check if firm already exists, insert row if it doesnt\n",
    "    cursor.execute(\"SELECT id FROM firms_web_search_results WHERE Firm_Name = ?\", (firm_name,))\n",
    "    firm_row = cursor.fetchone()\n",
    "    if firm_row is None:\n",
    "        print(\"Inserting new firm:, \", firm_name)\n",
    "        cursor.execute(\"INSERT INTO firms_web_search_results (Firm_Name) VALUES (?)\", (firm_name,))\n",
    "        firm_id = cursor.lastrowid \n",
    "    else:\n",
    "        # Get the existing firm's id\n",
    "        # print(\"Found row for firm, \", firm_name)\n",
    "        firm_id = firm_row[0]\n",
    "    \n",
    "    print(\"Firm ID: \", firm_id)\n",
    "\n",
    "    # Iterate through fields for the given firm\n",
    "    for field in fields:\n",
    "\n",
    "        # Check if the field value in the database is NULL\n",
    "        cursor.execute(f\"SELECT {field} FROM firms_web_search_results WHERE id = ? AND Firm_Name = ? AND {field} IS NOT NULL\", (firm_id,firm_name,))\n",
    "        if cursor.fetchone() is not None:\n",
    "            # print(f\"Field '{field}' already has data for firm '{firm_name}', skipping.\")\n",
    "            continue\n",
    "\n",
    "        query = f\"{firm_name} , {field.replace('_', ' ')}\"\n",
    "\n",
    "        # print(\"---------- Debug: Now on field: \", field)\n",
    "\n",
    "        # Get search results TODO: Handle search errors\n",
    "        search_results = bing_searcher.search(query)\n",
    "        \n",
    "        if search_results is None:\n",
    "            print(\"Search results are None\")\n",
    "            break\n",
    "\n",
    "        json_combined_data = json.dumps(search_results)\n",
    "\n",
    "        # Update cell value in database\n",
    "        cursor.execute(f\"\"\"\n",
    "                    UPDATE firms_web_search_results\n",
    "                    SET {field} = ?\n",
    "                    WHERE id = ? AND Firm_Name = ?\n",
    "                    \"\"\", (json_combined_data, firm_id, firm_name))\n",
    "        \n",
    "        conn.commit()\n"
   ]
  },
  {
   "cell_type": "code",
   "execution_count": 24,
   "metadata": {},
   "outputs": [
    {
     "data": {
      "text/plain": [
       "[(2922, '1000 Lewis Avenue, LLC'),\n",
       " (2923, '110 DETAILING LLC'),\n",
       " (2924, '$OLELESS LLC'),\n",
       " (2925, '1 UP ELECTRIC LLC'),\n",
       " (2926, '10 Key Ventures LLC')]"
      ]
     },
     "execution_count": 24,
     "metadata": {},
     "output_type": "execute_result"
    }
   ],
   "source": [
    "# Convert firms_sample to a tuple\n",
    "data = cursor.execute(\"SELECT id, firm_name FROM firms_web_search_results WHERE Firm_Name IN ({})\".format(\n",
    "    \",\".join([\"?\"] * len(firms_sample))\n",
    "), firms_sample).fetchall()\n",
    "data"
   ]
  },
  {
   "cell_type": "code",
   "execution_count": 26,
   "metadata": {},
   "outputs": [],
   "source": [
    "df = pd.DataFrame(data, columns=[\"id\", \"name\"])\n",
    "df.to_csv(\"firms_sample.csv\", index=False)"
   ]
  },
  {
   "cell_type": "code",
   "execution_count": 27,
   "metadata": {},
   "outputs": [],
   "source": [
    "cursor.close()\n",
    "conn.close()"
   ]
  },
  {
   "cell_type": "markdown",
   "metadata": {},
   "source": [
    "Inspect the Database"
   ]
  }
 ],
 "metadata": {
  "kernelspec": {
   "display_name": "equifax_practicum",
   "language": "python",
   "name": "python3"
  },
  "language_info": {
   "codemirror_mode": {
    "name": "ipython",
    "version": 3
   },
   "file_extension": ".py",
   "mimetype": "text/x-python",
   "name": "python",
   "nbconvert_exporter": "python",
   "pygments_lexer": "ipython3",
   "version": "3.12.7"
  }
 },
 "nbformat": 4,
 "nbformat_minor": 2
}
