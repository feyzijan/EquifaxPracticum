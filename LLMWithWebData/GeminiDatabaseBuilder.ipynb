{
 "cells": [
  {
   "cell_type": "code",
   "execution_count": 5,
   "metadata": {},
   "outputs": [],
   "source": [
    "import pandas as pd\n",
    "from dotenv import load_dotenv\n",
    "import os\n",
    "import google.generativeai as genai\n",
    "import json\n",
    "import time\n",
    "import sqlite3"
   ]
  },
  {
   "cell_type": "markdown",
   "metadata": {},
   "source": [
    "Define fields except firm name"
   ]
  },
  {
   "cell_type": "code",
   "execution_count": 1,
   "metadata": {},
   "outputs": [],
   "source": [
    "fields = [\"Registered_Address\", \"CEO\", \"Establishment_Year\", \"Number_Of_Employees\", \"Revenue_Size\" ,\n",
    "        \"Website\", \"NAICS_Code\", \"SIC_Code\", \"Status\" ]\n",
    "\n",
    "field_to_query = {\n",
    "        \"Registered_Address\": \"After looking at the data below, tell me the Registered Adress for the firm named {firm_name}}\",\n",
    "        \"CEO\": \"After looking at the data below, tell me the name and surname of the CEO for the firm named {firm_name} \",\n",
    "        \"Establishment_Year\": \"After looking at the data below, tell me the name and surname of the CEO for the firm named {firm_name}. Your answer should be 4 digits in the format YYYY\",\n",
    "        \"Number_Of_Employees\": \"After looking at the data below, tell me the estimated number of employees for the firm named {firm_name}. Your answer should be an approximate range, like 1-10, 10-100, 100-1000, 1000-10000, 10000+ etc. You can specify other ranges like 200-250 if you wish.\",\n",
    "        \"Revenue_Size\": \"After looking at the data below, tell me the estimated annual revenue in dollars for the firm named {firm_name}. Your answer should be an approximate range, 10000-100000, 1000000-10000000, or 1000000000+ etc. You can specify other ranges like 200-250 if you wish.\",\n",
    "        \"Website\": \"After looking at the data below, tell me the url of the official website of for the firm named {firm_name}. If you can't find a website for the firm, please write 'No website found'\",\n",
    "        \"NAICS_Code\": \"After looking at the data below, tell me the numeric NAICS code and surname of the CEO for the firm named {firm_name}.\",\n",
    "        \"SIC_Code\":  \"After looking at the data below, tell me the numeric SIC code and surname of the CEO for the firm named {firm_name}.\",\n",
    "        \"Status\": \"After looking at the data below, tell me the whether the firm named {firm_name} is Active or Dissolved. Answer with one word.\",\n",
    "}"
   ]
  },
  {
   "cell_type": "markdown",
   "metadata": {},
   "source": [
    "Model Config"
   ]
  },
  {
   "cell_type": "code",
   "execution_count": 7,
   "metadata": {},
   "outputs": [],
   "source": [
    "load_dotenv()\n",
    "genai.configure(api_key=os.getenv(\"GEMINI_API_KEY\"))\n",
    "\n",
    "model = genai.GenerativeModel(\n",
    "  model_name=\"gemini-1.5-flash-8b\",\n",
    "  generation_config= {\n",
    "    \"temperature\": 1,\n",
    "    \"top_p\": 0.95,\n",
    "    \"top_k\": 40,\n",
    "    \"max_output_tokens\": 8192,\n",
    "    \"response_mime_type\": \"text/plain\",\n",
    "    }\n",
    " )\n",
    "\n",
    "chat_session = model.start_chat(\n",
    "  history=[\n",
    "  ]\n",
    ")"
   ]
  },
  {
   "cell_type": "code",
   "execution_count": 8,
   "metadata": {},
   "outputs": [
    {
     "name": "stdout",
     "output_type": "stream",
     "text": [
      "Hello! How can I help you today?\n",
      "\n"
     ]
    }
   ],
   "source": [
    "response = chat_session.send_message(\"Hello there\")\n",
    "print(response.text)"
   ]
  },
  {
   "cell_type": "code",
   "execution_count": 9,
   "metadata": {},
   "outputs": [],
   "source": [
    "def form_prompt(context, query, data):\n",
    "    prompt = f\"\"\"\n",
    "    Context:\n",
    "    {context}\n",
    "\n",
    "    Query:\n",
    "    {query}\n",
    "\n",
    "    Relevant Data:\n",
    "    {data}\n",
    "    \"\"\"\n",
    "\n",
    "    return prompt"
   ]
  },
  {
   "cell_type": "code",
   "execution_count": 4,
   "metadata": {},
   "outputs": [],
   "source": [
    "general_context = \"\"\"\n",
    "You will be assisting me with filling in data fields for a firm database I am building.\n",
    "I will tell you the name of the firm i am interested in, and the field I want you to fill.\n",
    "I will give you potentially relevant information I have gained from web search results and the scraped contents of certain websites that I gathered by searching for the firm name and field and the field. \n",
    "The text will be in Json format.\n",
    "You will give your answer by simply stating the value of the field I am interested in. \n",
    "Do not form sentences, just give the value of the field.\n",
    "If you have absolutely no idea about the answer, then answer with 'null' .\n",
    "\"\"\""
   ]
  },
  {
   "cell_type": "markdown",
   "metadata": {},
   "source": [
    "### Open firm database"
   ]
  },
  {
   "cell_type": "code",
   "execution_count": 3,
   "metadata": {},
   "outputs": [],
   "source": [
    "use_stored_web_search_data = True"
   ]
  },
  {
   "cell_type": "code",
   "execution_count": 1,
   "metadata": {},
   "outputs": [
    {
     "ename": "NameError",
     "evalue": "name 'sqlite3' is not defined",
     "output_type": "error",
     "traceback": [
      "\u001b[0;31m---------------------------------------------------------------------------\u001b[0m",
      "\u001b[0;31mNameError\u001b[0m                                 Traceback (most recent call last)",
      "Cell \u001b[0;32mIn[1], line 2\u001b[0m\n\u001b[1;32m      1\u001b[0m \u001b[38;5;66;03m# Table containing web data\u001b[39;00m\n\u001b[0;32m----> 2\u001b[0m conn \u001b[38;5;241m=\u001b[39m \u001b[43msqlite3\u001b[49m\u001b[38;5;241m.\u001b[39mconnect(\u001b[38;5;124m\"\u001b[39m\u001b[38;5;124mfirms_search_results.db\u001b[39m\u001b[38;5;124m\"\u001b[39m)\n\u001b[1;32m      3\u001b[0m cursor \u001b[38;5;241m=\u001b[39m conn\u001b[38;5;241m.\u001b[39mcursor()\n\u001b[1;32m      5\u001b[0m \u001b[38;5;66;03m# Table to store the results\u001b[39;00m\n",
      "\u001b[0;31mNameError\u001b[0m: name 'sqlite3' is not defined"
     ]
    }
   ],
   "source": [
    "# Table to store the results\n",
    "conn = sqlite3.connect(\"firm_database_llm.db\")\n",
    "cursor = conn.cursor()\n",
    "\n",
    "cursor.execute('''\n",
    "CREATE TABLE IF NOT EXISTS firm_properties (\n",
    "               id INTEGER PRIMARY KEY AUTOINCREMENT,\n",
    "               Firm_Name TEXT NOT NULL,\n",
    "               Registered_Address TEXT,\n",
    "               CEO TEXT,\n",
    "               Establishment_Year INT,\n",
    "               Number_Of_Employees INT,\n",
    "               Revenue_Size INT,\n",
    "               Website TEXT,\n",
    "               NAICS_Code INT,\n",
    "               SIC_Code INT,\n",
    "               Status TEXT\n",
    "               )\n",
    "               ''')\n",
    "\n",
    "conn_web_results = sqlite3.connect(\"firms_search_results.db\")\n",
    "cursor_web_results = conn_web_results.cursor()"
   ]
  },
  {
   "cell_type": "markdown",
   "metadata": {},
   "source": [
    "Loop through firm names in \"firm_search_results.db\""
   ]
  },
  {
   "cell_type": "code",
   "execution_count": null,
   "metadata": {},
   "outputs": [],
   "source": [
    "cursor_web_results.execute(''' SELECT id, Firm_Name FROM firms_search_results ''')\n",
    "firm_web_search_results = cursor_web_results.fetchall()\n",
    "\n",
    "for web_search_result in firm_web_search_results:\n",
    "    firm_id = web_search_result[0]\n",
    "    firm_name = web_search_result[1]\n",
    "\n",
    "    # Check if firm already exists, insert row if it doesnt\n",
    "    cursor.execute(\"SELECT id FROM firms_search_results WHERE id = ? AND Firm_Name = ?\", (firm_id, firm_name,))\n",
    "    firm_row = cursor.fetchone()\n",
    "    if firm_row is None:\n",
    "        print(\"Inserting new firm:, \", firm_name)\n",
    "        cursor.execute(\"INSERT INTO firms_search_results (Firm_Name) VALUES (?)\", (firm_name,))\n",
    "        firm_id = cursor.lastrowid  \n",
    "    else:\n",
    "        # Get the existing firm's id\n",
    "        print(\"Found row for firm, \", firm_name)\n",
    "        firm_id = firm_row[0]\n",
    "    \n",
    "\n",
    "    for field in fields:\n",
    "\n",
    "        # Check if the field value in the database is NULL\n",
    "        cursor.execute(f\"SELECT {field} FROM firms_search_results WHERE id = ? AND Firm_Name = ? AND {field} IS NOT NULL\", (firm_id,firm_name,))\n",
    "        if cursor.fetchone() is not None:\n",
    "            print(f\"Field '{field}' already has data for firm '{firm_name}', skipping.\")\n",
    "            continue\n",
    "\n",
    "        if use_stored_web_search_data:\n",
    "            cursor_web_results.execute(f''' SELECT {field} FROM firms_search_results WHERE id = ? AND Firm_Name = ?'''(firm_id,firm_name))\n",
    "            web_search_result = cursor_web_results.fetchone()\n",
    "            web_search_result = json.loads(web_search_result[0]) # TODO check indexing here\n",
    "        else:\n",
    "            raise NotImplementedError(\"Stored web search data not available and live querying is not yet implemented\")\n",
    "\n",
    "\n",
    "    # Update queries with firm name\n",
    "    updated_queries = {key: value.format(firm_name=firm_name) for key, value in field_to_query.items()}\n",
    "\n",
    "    prompt = form_prompt(general_context, updated_queries[field], web_search_result[field])\n",
    "\n",
    "    success = False\n",
    "    failure_counter = 0\n",
    "    while not success and failure_counter < 3:\n",
    "        try:\n",
    "            response = chat_session.send_message(prompt).text\n",
    "            # print(\"Success for \", firm_name, field)\n",
    "            success = True\n",
    "        except Exception as e:\n",
    "            print(\"Exception occured: \", e)\n",
    "            time.sleep(1) \n",
    "            failure_counter += 1\n",
    "            \n",
    "    # Update database\n",
    "    cursor.execute(f''' INSERT INTO firm_properties (Firm_Name, {field}) VALUES ('{firm_name}', '{response.text}') ''')\n",
    "    conn.commit()"
   ]
  },
  {
   "cell_type": "code",
   "execution_count": null,
   "metadata": {},
   "outputs": [],
   "source": []
  },
  {
   "cell_type": "code",
   "execution_count": 14,
   "metadata": {},
   "outputs": [
    {
     "ename": "ProgrammingError",
     "evalue": "Cannot operate on a closed database.",
     "output_type": "error",
     "traceback": [
      "\u001b[0;31m---------------------------------------------------------------------------\u001b[0m",
      "\u001b[0;31mProgrammingError\u001b[0m                          Traceback (most recent call last)",
      "Cell \u001b[0;32mIn[14], line 2\u001b[0m\n\u001b[1;32m      1\u001b[0m conn\u001b[38;5;241m.\u001b[39mclose()\n\u001b[0;32m----> 2\u001b[0m \u001b[43mcursor\u001b[49m\u001b[38;5;241;43m.\u001b[39;49m\u001b[43mclose\u001b[49m\u001b[43m(\u001b[49m\u001b[43m)\u001b[49m\n",
      "\u001b[0;31mProgrammingError\u001b[0m: Cannot operate on a closed database."
     ]
    }
   ],
   "source": [
    "conn.close()\n",
    "cursor.close()"
   ]
  },
  {
   "cell_type": "code",
   "execution_count": null,
   "metadata": {},
   "outputs": [],
   "source": []
  }
 ],
 "metadata": {
  "kernelspec": {
   "display_name": "equifax_practicum",
   "language": "python",
   "name": "python3"
  },
  "language_info": {
   "codemirror_mode": {
    "name": "ipython",
    "version": 3
   },
   "file_extension": ".py",
   "mimetype": "text/x-python",
   "name": "python",
   "nbconvert_exporter": "python",
   "pygments_lexer": "ipython3",
   "version": "3.12.5"
  }
 },
 "nbformat": 4,
 "nbformat_minor": 2
}
